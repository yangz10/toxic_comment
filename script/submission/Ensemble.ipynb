{
 "cells": [
  {
   "cell_type": "code",
   "execution_count": 1,
   "metadata": {},
   "outputs": [],
   "source": [
    "import numpy as np\n",
    "import pandas as pd"
   ]
  },
  {
   "cell_type": "code",
   "execution_count": 2,
   "metadata": {},
   "outputs": [],
   "source": [
    "# NB = pd.read_csv('NB_submission.csv')\n",
    "# LSMT = pd.read_csv('LSMT_submission.csv')\n",
    "# Lr = pd.read_csv('Logistic_submission.csv')\n",
    "ensemPre = pd.read_csv('Ensemble_0.9857.csv')\n",
    "LSMT = pd.read_csv('LSMT_submission _0.9849.csv')\n",
    "previous = pd.read_csv('Ensemble_Mar_18.csv')\n",
    "new = pd.read_csv('stacked.csv')"
   ]
  },
  {
   "cell_type": "code",
   "execution_count": 3,
   "metadata": {},
   "outputs": [],
   "source": [
    "b1 = LSMT.copy()\n",
    "col = b1.columns\n",
    "\n",
    "col = col.tolist()\n",
    "col.remove('id')\n",
    "for i in col:\n",
    "    b1[i] = 0.2*ensemPre[i]+0.2*LSMT[i]+0.4*previous[i]+0.2*new[i]\n",
    "    \n",
    "b1.to_csv('Ensemble_Mar_18_3.csv', index = False)"
   ]
  },
  {
   "cell_type": "markdown",
   "metadata": {},
   "source": [
    "# At first we\n",
    "\n",
    "## we will try to "
   ]
  },
  {
   "cell_type": "code",
   "execution_count": 1,
   "metadata": {},
   "outputs": [
    {
     "name": "stderr",
     "output_type": "stream",
     "text": [
      "ERROR:root:No traceback has been produced, nothing to debug.\n"
     ]
    }
   ],
   "source": [
    "%debug"
   ]
  },
  {
   "cell_type": "code",
   "execution_count": null,
   "metadata": {},
   "outputs": [],
   "source": []
  }
 ],
 "metadata": {
  "kernelspec": {
   "display_name": "Python 3",
   "language": "python",
   "name": "python3"
  },
  "language_info": {
   "codemirror_mode": {
    "name": "ipython",
    "version": 3
   },
   "file_extension": ".py",
   "mimetype": "text/x-python",
   "name": "python",
   "nbconvert_exporter": "python",
   "pygments_lexer": "ipython3",
   "version": "3.6.4"
  }
 },
 "nbformat": 4,
 "nbformat_minor": 2
}
