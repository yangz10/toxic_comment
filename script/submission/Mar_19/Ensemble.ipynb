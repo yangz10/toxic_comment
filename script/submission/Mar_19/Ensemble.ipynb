{
 "cells": [
  {
   "cell_type": "code",
   "execution_count": 1,
   "metadata": {},
   "outputs": [],
   "source": [
    "import numpy as np\n",
    "import pandas as pd"
   ]
  },
  {
   "cell_type": "code",
   "execution_count": 2,
   "metadata": {},
   "outputs": [],
   "source": [
    "# s1 = pd.read_csv('blend_it_all_0.9867.csv')\n",
    "# s2 = pd.read_csv('Ensemble_Mar_18_5_0.9872.csv') #1 0.1\n",
    "# s4 = pd.read_csv('hight_of_blend_v2_0.9861.csv') #0.05\n",
    "# s5 = pd.read_csv('lazy_ensemble_submission_0.9865.csv') #0.05\n",
    "# s6 = pd.read_csv('Mar18_0.9867.csv') #0.05\n",
    "# s7 = pd.read_csv('one_more_blend_0.9865.csv') #0.05\n",
    "# s8 = pd.read_csv('preprocessed_blend_0.986.csv') \n",
    "# s9 = pd.read_csv('submission_0.9866.csv') # 0.05  \n",
    "# s10 = pd.read_csv('Ensemble_Mar_18_3_0.9871.csv') #2 0.1\n",
    "# s11 = pd.read_csv('hight_of_blend_v2_0.9860.csv') #0.05\n",
    "# s12 = pd.read_csv('rank_averaged_submission_0.9857.csv')\n",
    "#s13 = pd.read_csv('submission_0.9858.csv')\n",
    "Main = pd.read_csv('Ensemble_Mar_18_7-0.9873.csv') #3 0.3\n",
    "s1 = pd.read_csv('justTrynew_0.9685.csv')\n",
    "s2 = pd.read_csv('justTry_0.9725.csv')\n",
    "# s3 = pd.read_csv('superblend_1_0.9854.csv')\n",
    "# s4 = pd.read_csv('rank_averaged_submission_0.9857.csv')\n",
    "# s5 = pd.read_csv('submission_0.9866.csv')\n",
    "\n",
    "#s14 = pd.read_csv('super_blend_unknown.csv')                               "
   ]
  },
  {
   "cell_type": "code",
   "execution_count": 4,
   "metadata": {},
   "outputs": [],
   "source": [
    "b1 = s1.copy()\n",
    "col = b1.columns\n",
    "\n",
    "col = col.tolist()\n",
    "col.remove('id')\n",
    "for i in col:\n",
    "    b1[i] = 0.8*Main[i]+0.1*s1[i]+0.1*s2[i]\n",
    "    \n",
    "b1.to_csv('Ensemble_Mar_18_8.csv', index = False)"
   ]
  },
  {
   "cell_type": "code",
   "execution_count": null,
   "metadata": {},
   "outputs": [],
   "source": []
  }
 ],
 "metadata": {
  "kernelspec": {
   "display_name": "Python 3",
   "language": "python",
   "name": "python3"
  },
  "language_info": {
   "codemirror_mode": {
    "name": "ipython",
    "version": 3
   },
   "file_extension": ".py",
   "mimetype": "text/x-python",
   "name": "python",
   "nbconvert_exporter": "python",
   "pygments_lexer": "ipython3",
   "version": "3.6.4"
  }
 },
 "nbformat": 4,
 "nbformat_minor": 2
}
