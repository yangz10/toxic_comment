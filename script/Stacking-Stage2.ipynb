{
 "cells": [
  {
   "cell_type": "code",
   "execution_count": 1,
   "metadata": {},
   "outputs": [],
   "source": [
    "import numpy as np\n",
    "import pandas as pd"
   ]
  },
  {
   "cell_type": "code",
   "execution_count": 2,
   "metadata": {},
   "outputs": [],
   "source": [
    "link = pd.read_csv('link.csv')"
   ]
  },
  {
   "cell_type": "code",
   "execution_count": 3,
   "metadata": {},
   "outputs": [
    {
     "data": {
      "text/html": [
       "<div>\n",
       "<style scoped>\n",
       "    .dataframe tbody tr th:only-of-type {\n",
       "        vertical-align: middle;\n",
       "    }\n",
       "\n",
       "    .dataframe tbody tr th {\n",
       "        vertical-align: top;\n",
       "    }\n",
       "\n",
       "    .dataframe thead th {\n",
       "        text-align: right;\n",
       "    }\n",
       "</style>\n",
       "<table border=\"1\" class=\"dataframe\">\n",
       "  <thead>\n",
       "    <tr style=\"text-align: right;\">\n",
       "      <th></th>\n",
       "      <th>train</th>\n",
       "      <th>test</th>\n",
       "    </tr>\n",
       "  </thead>\n",
       "  <tbody>\n",
       "    <tr>\n",
       "      <th>0</th>\n",
       "      <td>cnn_1d3_fasttest_last_1_layer.csv</td>\n",
       "      <td>cnn_1d3_fasttest_last_1_layer.csv</td>\n",
       "    </tr>\n",
       "    <tr>\n",
       "      <th>1</th>\n",
       "      <td>cnn_1d3_fasttest_original.csv</td>\n",
       "      <td>cnn_1d3_fasttest_original.csv</td>\n",
       "    </tr>\n",
       "    <tr>\n",
       "      <th>2</th>\n",
       "      <td>cnn_1d3_glove_last_1_layer.csv</td>\n",
       "      <td>cnn_1d3_glove_last_1_layer.csv</td>\n",
       "    </tr>\n",
       "    <tr>\n",
       "      <th>3</th>\n",
       "      <td>cnn_1d3_glove_original.csv</td>\n",
       "      <td>cnn_1d3_glove_original.csv</td>\n",
       "    </tr>\n",
       "    <tr>\n",
       "      <th>4</th>\n",
       "      <td>cnn_1d3_last_1_layer.csv</td>\n",
       "      <td>cnn_1d3_last_1_layer.csv</td>\n",
       "    </tr>\n",
       "  </tbody>\n",
       "</table>\n",
       "</div>"
      ],
      "text/plain": [
       "                               train                               test\n",
       "0  cnn_1d3_fasttest_last_1_layer.csv  cnn_1d3_fasttest_last_1_layer.csv\n",
       "1      cnn_1d3_fasttest_original.csv      cnn_1d3_fasttest_original.csv\n",
       "2     cnn_1d3_glove_last_1_layer.csv     cnn_1d3_glove_last_1_layer.csv\n",
       "3         cnn_1d3_glove_original.csv         cnn_1d3_glove_original.csv\n",
       "4           cnn_1d3_last_1_layer.csv           cnn_1d3_last_1_layer.csv"
      ]
     },
     "execution_count": 3,
     "metadata": {},
     "output_type": "execute_result"
    }
   ],
   "source": [
    "link.head()"
   ]
  },
  {
   "cell_type": "code",
   "execution_count": 4,
   "metadata": {},
   "outputs": [],
   "source": [
    "train = pd.read_csv('../output/train_pre.csv')\n",
    "test = pd.read_csv('../output/test_pre.csv')"
   ]
  },
  {
   "cell_type": "code",
   "execution_count": 5,
   "metadata": {},
   "outputs": [],
   "source": [
    "X_train = train[['id','caps_vs_length', 'num_punctuation', 'num_unique_words','num_exclamation_marks']]\n",
    "Y_train = train[['id', 'comment_text', 'toxic', 'severe_toxic', 'obscene',\n",
    "       'threat', 'insult', 'identity_hate']]\n",
    "X_test = test[['id','caps_vs_length', 'num_punctuation', 'num_unique_words','num_exclamation_marks']]"
   ]
  },
  {
   "cell_type": "code",
   "execution_count": 6,
   "metadata": {},
   "outputs": [],
   "source": [
    "for t in range(len(link)):\n",
    "    tempTrain =  pd.read_csv(('train_outcome/'+link['train'][t]))\n",
    "    tempTest = pd.read_csv(('test_outcome/'+link['test'][t]))\n",
    "    if 'id' in tempTrain.columns:\n",
    "        tempTrain = tempTrain.iloc[:,1:]\n",
    "    if 'id' in tempTest.columns:\n",
    "        tempTest = tempTest.iloc[:,1:]\n",
    "    X_train = pd.concat([X_train,tempTrain], axis=1)\n",
    "    X_test = pd.concat([X_test,tempTest], axis=1)"
   ]
  },
  {
   "cell_type": "code",
   "execution_count": 8,
   "metadata": {},
   "outputs": [],
   "source": [
    "train_x = X_train.iloc[:,1:].values"
   ]
  },
  {
   "cell_type": "code",
   "execution_count": 13,
   "metadata": {},
   "outputs": [
    {
     "data": {
      "text/plain": [
       "(159571, 232)"
      ]
     },
     "execution_count": 13,
     "metadata": {},
     "output_type": "execute_result"
    }
   ],
   "source": [
    "train_x.shape"
   ]
  },
  {
   "cell_type": "code",
   "execution_count": 11,
   "metadata": {},
   "outputs": [],
   "source": [
    "train_y = Y_train.iloc[:,2:].values"
   ]
  },
  {
   "cell_type": "code",
   "execution_count": 31,
   "metadata": {},
   "outputs": [
    {
     "data": {
      "text/plain": [
       "(143613, 6)"
      ]
     },
     "execution_count": 31,
     "metadata": {},
     "output_type": "execute_result"
    }
   ],
   "source": [
    "val_testx.shape"
   ]
  },
  {
   "cell_type": "code",
   "execution_count": 38,
   "metadata": {},
   "outputs": [
    {
     "name": "stdout",
     "output_type": "stream",
     "text": [
      "Train on 143613 samples, validate on 15958 samples\n",
      "Epoch 1/20\n",
      "143613/143613 [==============================] - 64s 448us/step - loss: 0.0487 - acc: 0.9819 - val_loss: 0.0361 - val_acc: 0.9869\n",
      "Epoch 2/20\n",
      "143613/143613 [==============================] - 62s 435us/step - loss: 0.0371 - acc: 0.9865 - val_loss: 0.0371 - val_acc: 0.9872\n",
      "Epoch 3/20\n",
      "143613/143613 [==============================] - 63s 442us/step - loss: 0.0356 - acc: 0.9868 - val_loss: 0.0340 - val_acc: 0.9873\n",
      "Epoch 4/20\n",
      "143613/143613 [==============================] - 65s 452us/step - loss: 0.0328 - acc: 0.9880 - val_loss: 0.0300 - val_acc: 0.9895\n",
      "Epoch 5/20\n",
      "143613/143613 [==============================] - 63s 438us/step - loss: 0.0306 - acc: 0.9891 - val_loss: 0.0299 - val_acc: 0.9897\n",
      "Epoch 6/20\n",
      "143613/143613 [==============================] - 63s 436us/step - loss: 0.0290 - acc: 0.9897 - val_loss: 0.0278 - val_acc: 0.9902\n",
      "Epoch 7/20\n",
      "143613/143613 [==============================] - 63s 436us/step - loss: 0.0280 - acc: 0.9899 - val_loss: 0.0283 - val_acc: 0.9893\n",
      "Epoch 8/20\n",
      "143613/143613 [==============================] - 63s 436us/step - loss: 0.0272 - acc: 0.9901 - val_loss: 0.0272 - val_acc: 0.9906\n",
      "Epoch 9/20\n",
      "143613/143613 [==============================] - 65s 454us/step - loss: 0.0260 - acc: 0.9906 - val_loss: 0.0256 - val_acc: 0.9909\n",
      "Epoch 10/20\n",
      "143613/143613 [==============================] - 66s 459us/step - loss: 0.0256 - acc: 0.9907 - val_loss: 0.0267 - val_acc: 0.9906\n",
      "Epoch 11/20\n",
      "143613/143613 [==============================] - 66s 463us/step - loss: 0.0248 - acc: 0.9910 - val_loss: 0.0261 - val_acc: 0.9909\n",
      "Epoch 12/20\n",
      "143613/143613 [==============================] - 71s 494us/step - loss: 0.0242 - acc: 0.9911 - val_loss: 0.0251 - val_acc: 0.9911\n",
      "Epoch 13/20\n",
      "143613/143613 [==============================] - 67s 468us/step - loss: 0.0239 - acc: 0.9912 - val_loss: 0.0239 - val_acc: 0.9916\n",
      "Epoch 14/20\n",
      "143613/143613 [==============================] - 69s 482us/step - loss: 0.0234 - acc: 0.9915 - val_loss: 0.0247 - val_acc: 0.9914\n",
      "Epoch 15/20\n",
      "143613/143613 [==============================] - 65s 450us/step - loss: 0.0233 - acc: 0.9914 - val_loss: 0.0242 - val_acc: 0.9915\n",
      "Epoch 16/20\n",
      "143613/143613 [==============================] - 64s 446us/step - loss: 0.0226 - acc: 0.9917 - val_loss: 0.0246 - val_acc: 0.9912\n",
      "Epoch 17/20\n",
      "143613/143613 [==============================] - 66s 463us/step - loss: 0.0224 - acc: 0.9917 - val_loss: 0.0247 - val_acc: 0.9911\n",
      "Epoch 18/20\n",
      "143613/143613 [==============================] - 69s 478us/step - loss: 0.0221 - acc: 0.9919 - val_loss: 0.0242 - val_acc: 0.9916\n",
      "Epoch 19/20\n",
      "143613/143613 [==============================] - 67s 465us/step - loss: 0.0220 - acc: 0.9919 - val_loss: 0.0242 - val_acc: 0.9913\n",
      "Epoch 20/20\n",
      "143613/143613 [==============================] - 65s 452us/step - loss: 0.0218 - acc: 0.9919 - val_loss: 0.0230 - val_acc: 0.9919\n",
      "15958/15958 [==============================] - 2s 119us/step\n",
      "('Test score:', 0.02296999249507411)\n",
      "('Test accuracy:', 0.9919162716224896)\n"
     ]
    }
   ],
   "source": [
    "import pandas as pd\n",
    "\n",
    "from sklearn.model_selection import train_test_split\n",
    "from keras.models import Sequential\n",
    "from keras.layers import Dense, Dropout, Activation, Input, Conv1D\n",
    "from keras.layers import LSTM, MaxPooling1D, Embedding\n",
    "from keras.layers import GRU, Bidirectional, GlobalAveragePooling1D, GlobalMaxPooling1D\n",
    "from keras.models import Model\n",
    "\n",
    "model = Sequential()\n",
    "model.add(Dense(1000, input_shape=(232,)))\n",
    "model.add(Dropout(0.25))\n",
    "model.add(Activation('relu'))\n",
    "model.add(Dense(2000))\n",
    "model.add(Activation('sigmoid'))\n",
    "model.add(Dense(1000))\n",
    "model.add(Activation('tanh'))\n",
    "model.add(Dense(1000))\n",
    "model.add(Activation('tanh'))\n",
    "model.add(Dense(1000))\n",
    "model.add(Activation('tanh'))\n",
    "model.add(Dense(1000))\n",
    "model.add(Activation('sigmoid'))\n",
    "model.add(Dense(6))\n",
    "model.add(Activation('sigmoid'))\n",
    "model.compile(loss='binary_crossentropy',\n",
    "              optimizer='adam',\n",
    "              metrics=['accuracy'])\n",
    "\n",
    "x_tain, y_tain, val_testx, val_testy = train_test_split(train_x, train_y, train_size=0.9, random_state=144)\n",
    "model.fit(x_tain, val_testx,\n",
    "          batch_size=512,\n",
    "          epochs=20,\n",
    "          validation_data=(y_tain, val_testy))\n",
    "score, acc = model.evaluate(y_tain, val_testy, batch_size=512)\n",
    "print('Test score:', score)\n",
    "print('Test accuracy:', acc)"
   ]
  },
  {
   "cell_type": "code",
   "execution_count": 39,
   "metadata": {},
   "outputs": [
    {
     "name": "stdout",
     "output_type": "stream",
     "text": [
      "Train on 143613 samples, validate on 15958 samples\n",
      "Epoch 1/10\n",
      "143613/143613 [==============================] - 53s 370us/step - loss: 0.0202 - acc: 0.9925 - val_loss: 0.0230 - val_acc: 0.9920\n",
      "Epoch 2/10\n",
      "143613/143613 [==============================] - 59s 408us/step - loss: 0.0198 - acc: 0.9925 - val_loss: 0.0236 - val_acc: 0.9917\n",
      "Epoch 3/10\n",
      "143613/143613 [==============================] - 62s 428us/step - loss: 0.0196 - acc: 0.9927 - val_loss: 0.0232 - val_acc: 0.9919\n",
      "Epoch 4/10\n",
      "143613/143613 [==============================] - 59s 408us/step - loss: 0.0195 - acc: 0.9928 - val_loss: 0.0228 - val_acc: 0.9921\n",
      "Epoch 5/10\n",
      "143613/143613 [==============================] - 61s 422us/step - loss: 0.0195 - acc: 0.9927 - val_loss: 0.0227 - val_acc: 0.9924\n",
      "Epoch 6/10\n",
      "143613/143613 [==============================] - 61s 426us/step - loss: 0.0191 - acc: 0.9928 - val_loss: 0.0231 - val_acc: 0.9920\n",
      "Epoch 7/10\n",
      "143613/143613 [==============================] - 59s 412us/step - loss: 0.0192 - acc: 0.9928 - val_loss: 0.0240 - val_acc: 0.9916\n",
      "Epoch 8/10\n",
      "143613/143613 [==============================] - 56s 389us/step - loss: 0.0190 - acc: 0.9928 - val_loss: 0.0228 - val_acc: 0.9920\n",
      "Epoch 9/10\n",
      "143613/143613 [==============================] - 59s 409us/step - loss: 0.0189 - acc: 0.9929 - val_loss: 0.0234 - val_acc: 0.9917\n",
      "Epoch 10/10\n",
      "143613/143613 [==============================] - 58s 402us/step - loss: 0.0188 - acc: 0.9929 - val_loss: 0.0232 - val_acc: 0.9922\n",
      "15958/15958 [==============================] - 2s 118us/step\n"
     ]
    }
   ],
   "source": [
    "model.fit(x_tain, val_testx,\n",
    "          batch_size=1024,\n",
    "          epochs=10,\n",
    "          validation_data=(y_tain, val_testy))\n",
    "score, acc = model.evaluate(y_tain, val_testy, batch_size=1024)"
   ]
  },
  {
   "cell_type": "code",
   "execution_count": 40,
   "metadata": {},
   "outputs": [
    {
     "name": "stdout",
     "output_type": "stream",
     "text": [
      "Train on 143613 samples, validate on 15958 samples\n",
      "Epoch 1/10\n",
      "143613/143613 [==============================] - 53s 372us/step - loss: 0.0189 - acc: 0.9929 - val_loss: 0.0232 - val_acc: 0.9920\n",
      "Epoch 2/10\n",
      "143613/143613 [==============================] - 57s 394us/step - loss: 0.0188 - acc: 0.9929 - val_loss: 0.0229 - val_acc: 0.9921\n",
      "Epoch 3/10\n",
      "143613/143613 [==============================] - 56s 390us/step - loss: 0.0185 - acc: 0.9930 - val_loss: 0.0232 - val_acc: 0.9921\n",
      "Epoch 4/10\n",
      "143613/143613 [==============================] - 58s 401us/step - loss: 0.0184 - acc: 0.9930 - val_loss: 0.0232 - val_acc: 0.9920\n",
      "Epoch 5/10\n",
      "143613/143613 [==============================] - 57s 398us/step - loss: 0.0183 - acc: 0.9930 - val_loss: 0.0246 - val_acc: 0.9921\n",
      "Epoch 6/10\n",
      "143613/143613 [==============================] - 56s 393us/step - loss: 0.0183 - acc: 0.9931 - val_loss: 0.0232 - val_acc: 0.9921\n",
      "Epoch 7/10\n",
      "143613/143613 [==============================] - 59s 414us/step - loss: 0.0179 - acc: 0.9933 - val_loss: 0.0238 - val_acc: 0.9920\n",
      "Epoch 8/10\n",
      "143613/143613 [==============================] - 57s 396us/step - loss: 0.0178 - acc: 0.9933 - val_loss: 0.0235 - val_acc: 0.9919\n",
      "Epoch 9/10\n",
      "143613/143613 [==============================] - 60s 418us/step - loss: 0.0177 - acc: 0.9934 - val_loss: 0.0233 - val_acc: 0.9921\n",
      "Epoch 10/10\n",
      "143613/143613 [==============================] - 58s 404us/step - loss: 0.0177 - acc: 0.9933 - val_loss: 0.0234 - val_acc: 0.9921\n",
      "15958/15958 [==============================] - 2s 116us/step\n"
     ]
    }
   ],
   "source": [
    "model.fit(x_tain, val_testx,\n",
    "          batch_size=1024,\n",
    "          epochs=10,\n",
    "          validation_data=(y_tain, val_testy))\n",
    "score, acc = model.evaluate(y_tain, val_testy, batch_size=1024)"
   ]
  },
  {
   "cell_type": "code",
   "execution_count": 41,
   "metadata": {},
   "outputs": [
    {
     "name": "stdout",
     "output_type": "stream",
     "text": [
      "153164/153164 [==============================] - 17s 114us/step\n"
     ]
    }
   ],
   "source": [
    "y_pred = model.predict(X_test.iloc[:,1:].values, batch_size=1024, verbose=1)\n",
    "submission = pd.read_csv('../input/sample_submission.csv')\n",
    "submission = submission.iloc[:y_pred.shape[0], :]\n",
    "submission[[\"toxic\", \"severe_toxic\", \"obscene\", \"threat\", \"insult\", \"identity_hate\"]] = y_pred\n",
    "submission.to_csv('justTrynew.csv', index=False)"
   ]
  },
  {
   "cell_type": "code",
   "execution_count": 57,
   "metadata": {},
   "outputs": [],
   "source": [
    "X_train.to_csv('final_X_Train_Stacking.csv',index=False)"
   ]
  },
  {
   "cell_type": "code",
   "execution_count": 56,
   "metadata": {},
   "outputs": [
    {
     "data": {
      "text/plain": [
       "(153164, 455)"
      ]
     },
     "execution_count": 56,
     "metadata": {},
     "output_type": "execute_result"
    }
   ],
   "source": [
    "X_test.shape"
   ]
  },
  {
   "cell_type": "code",
   "execution_count": 58,
   "metadata": {},
   "outputs": [],
   "source": [
    "X_test.to_csv('final_X_test_Stacking.csv',index=False)"
   ]
  },
  {
   "cell_type": "code",
   "execution_count": 64,
   "metadata": {},
   "outputs": [
    {
     "data": {
      "text/plain": [
       "(159571, 454)"
      ]
     },
     "execution_count": 64,
     "metadata": {},
     "output_type": "execute_result"
    }
   ],
   "source": [
    "np.matrix(X_train.iloc[:,1:]).shape"
   ]
  },
  {
   "cell_type": "code",
   "execution_count": null,
   "metadata": {},
   "outputs": [],
   "source": [
    "import pandas as pd\n",
    "\n",
    "from scipy.sparse import csr_matrix, hstack\n",
    "\n",
    "from sklearn.feature_extraction.text import TfidfVectorizer\n",
    "\n",
    "from sklearn.model_selection import train_test_split\n",
    "from sklearn.feature_selection import SelectFromModel\n",
    "\n",
    "from sklearn.linear_model import LogisticRegression\n",
    "import lightgbm as lgb\n",
    "\n",
    "class_names = ['toxic', 'severe_toxic', 'obscene', 'threat', 'insult', 'identity_hate']\n",
    "\n",
    "submission = pd.DataFrame.from_dict({'id': X_test['id']})\n",
    "train = Y_train\n",
    "train_features = np.matrix(X_train.iloc[:,1:])\n",
    "test_features = np.matrix(X_test.iloc[:,1:])"
   ]
  },
  {
   "cell_type": "code",
   "execution_count": 66,
   "metadata": {},
   "outputs": [
    {
     "name": "stdout",
     "output_type": "stream",
     "text": [
      "toxic\n",
      "(159571, 454)\n",
      "(159571, 82)\n",
      "[10]\ttraining's auc: 0.992885\tvalid_1's auc: 0.984605\n",
      "[20]\ttraining's auc: 0.994689\tvalid_1's auc: 0.988516\n",
      "[30]\ttraining's auc: 0.99566\tvalid_1's auc: 0.989035\n",
      "[40]\ttraining's auc: 0.996266\tvalid_1's auc: 0.99013\n",
      "[50]\ttraining's auc: 0.996624\tvalid_1's auc: 0.990514\n",
      "[60]\ttraining's auc: 0.996882\tvalid_1's auc: 0.990555\n",
      "[70]\ttraining's auc: 0.997118\tvalid_1's auc: 0.990563\n",
      "[80]\ttraining's auc: 0.9974\tvalid_1's auc: 0.990626\n",
      "[90]\ttraining's auc: 0.997624\tvalid_1's auc: 0.990613\n",
      "[100]\ttraining's auc: 0.997813\tvalid_1's auc: 0.990568\n",
      "[110]\ttraining's auc: 0.998019\tvalid_1's auc: 0.990525\n",
      "[120]\ttraining's auc: 0.998155\tvalid_1's auc: 0.990621\n",
      "[130]\ttraining's auc: 0.998289\tvalid_1's auc: 0.990758\n",
      "[140]\ttraining's auc: 0.998416\tvalid_1's auc: 0.99082\n",
      "severe_toxic\n",
      "(159571, 454)\n",
      "(159571, 33)\n",
      "[10]\ttraining's auc: 0.995738\tvalid_1's auc: 0.997555\n",
      "[20]\ttraining's auc: 0.997166\tvalid_1's auc: 0.997504\n",
      "[30]\ttraining's auc: 0.998418\tvalid_1's auc: 0.997404\n",
      "[40]\ttraining's auc: 0.999001\tvalid_1's auc: 0.997474\n",
      "[50]\ttraining's auc: 0.999227\tvalid_1's auc: 0.997529\n",
      "obscene\n",
      "(159571, 454)\n",
      "(159571, 51)\n",
      "[10]\ttraining's auc: 0.995877\tvalid_1's auc: 0.998402\n",
      "[20]\ttraining's auc: 0.997349\tvalid_1's auc: 0.998587\n",
      "[30]\ttraining's auc: 0.998224\tvalid_1's auc: 0.998583\n",
      "[40]\ttraining's auc: 0.99858\tvalid_1's auc: 0.998505\n",
      "[50]\ttraining's auc: 0.998747\tvalid_1's auc: 0.99856\n",
      "[60]\ttraining's auc: 0.99893\tvalid_1's auc: 0.998513\n",
      "[70]\ttraining's auc: 0.999052\tvalid_1's auc: 0.998557\n",
      "[80]\ttraining's auc: 0.999166\tvalid_1's auc: 0.998634\n",
      "threat\n",
      "(159571, 454)\n",
      "(159571, 53)\n",
      "[10]\ttraining's auc: 0.998625\tvalid_1's auc: 0.97325\n",
      "[20]\ttraining's auc: 0.999854\tvalid_1's auc: 0.998492\n",
      "[30]\ttraining's auc: 0.999929\tvalid_1's auc: 0.998568\n",
      "[40]\ttraining's auc: 0.999969\tvalid_1's auc: 0.998549\n",
      "[50]\ttraining's auc: 0.999984\tvalid_1's auc: 0.998568\n",
      "[60]\ttraining's auc: 0.999992\tvalid_1's auc: 0.998511\n",
      "[70]\ttraining's auc: 0.999995\tvalid_1's auc: 0.998505\n",
      "[80]\ttraining's auc: 0.999997\tvalid_1's auc: 0.998492\n",
      "insult\n",
      "(159571, 454)\n",
      "(159571, 81)\n",
      "[10]\ttraining's auc: 0.992989\tvalid_1's auc: 0.990878\n",
      "[20]\ttraining's auc: 0.995824\tvalid_1's auc: 0.993006\n",
      "[30]\ttraining's auc: 0.996926\tvalid_1's auc: 0.993927\n",
      "[40]\ttraining's auc: 0.997374\tvalid_1's auc: 0.994518\n",
      "[50]\ttraining's auc: 0.997711\tvalid_1's auc: 0.994398\n",
      "[60]\ttraining's auc: 0.997957\tvalid_1's auc: 0.994508\n",
      "[70]\ttraining's auc: 0.998185\tvalid_1's auc: 0.994309\n",
      "identity_hate\n",
      "(159571, 454)\n",
      "(159571, 30)\n",
      "[10]\ttraining's auc: 0.993843\tvalid_1's auc: 0.988001\n",
      "[20]\ttraining's auc: 0.996479\tvalid_1's auc: 0.988082\n",
      "[30]\ttraining's auc: 0.997511\tvalid_1's auc: 0.994038\n",
      "[40]\ttraining's auc: 0.998769\tvalid_1's auc: 0.994222\n",
      "[50]\ttraining's auc: 0.998959\tvalid_1's auc: 0.994172\n",
      "[60]\ttraining's auc: 0.999127\tvalid_1's auc: 0.994258\n",
      "[70]\ttraining's auc: 0.999267\tvalid_1's auc: 0.994278\n",
      "[80]\ttraining's auc: 0.999365\tvalid_1's auc: 0.994198\n"
     ]
    }
   ],
   "source": [
    "for class_name in class_names:\n",
    "    print(class_name)\n",
    "    train_target = train[class_name]\n",
    "    model = LogisticRegression(solver='sag')\n",
    "    sfm = SelectFromModel(model, threshold=0.2)\n",
    "    print(train_features.shape)\n",
    "    train_sparse_matrix = sfm.fit_transform(train_features, train_target)\n",
    "    print(train_sparse_matrix.shape)\n",
    "    train_sparse_matrix, valid_sparse_matrix, y_train, y_valid = train_test_split(train_sparse_matrix, train_target, test_size=0.05, random_state=144)\n",
    "    test_sparse_matrix = sfm.transform(test_features)\n",
    "    d_train = lgb.Dataset(train_sparse_matrix, label=y_train)\n",
    "    d_valid = lgb.Dataset(valid_sparse_matrix, label=y_valid)\n",
    "    watchlist = [d_train, d_valid]\n",
    "    params = {'learning_rate': 0.2,\n",
    "              'application': 'binary',\n",
    "              'num_leaves': 31,\n",
    "              'verbosity': -1,\n",
    "              'metric': 'auc',\n",
    "              'data_random_seed': 2,\n",
    "              'bagging_fraction': 0.8,\n",
    "              'feature_fraction': 0.6,\n",
    "              'nthread': 4,\n",
    "              'lambda_l1': 1,\n",
    "              'lambda_l2': 1}\n",
    "    rounds_lookup = {'toxic': 140,\n",
    "                 'severe_toxic': 50,\n",
    "                 'obscene': 80,\n",
    "                 'threat': 80,\n",
    "                 'insult': 70,\n",
    "                 'identity_hate': 80}\n",
    "    model = lgb.train(params,\n",
    "                      train_set=d_train,\n",
    "                      num_boost_round=rounds_lookup[class_name],\n",
    "                      valid_sets=watchlist,\n",
    "                      verbose_eval=10)\n",
    "    submission[class_name] = model.predict(test_sparse_matrix)\n",
    "\n",
    "submission.to_csv('lgb_submission.csv', index=False)"
   ]
  },
  {
   "cell_type": "code",
   "execution_count": 67,
   "metadata": {},
   "outputs": [
    {
     "ename": "AttributeError",
     "evalue": "'int' object has no attribute 'columns'",
     "output_type": "error",
     "traceback": [
      "\u001b[0;31m---------------------------------------------------------------------------\u001b[0m",
      "\u001b[0;31mAttributeError\u001b[0m                            Traceback (most recent call last)",
      "\u001b[0;32m<ipython-input-67-f4349abd6e9e>\u001b[0m in \u001b[0;36m<module>\u001b[0;34m()\u001b[0m\n\u001b[0;32m----> 1\u001b[0;31m \u001b[0;34m'id'\u001b[0m \u001b[0;32min\u001b[0m \u001b[0mt\u001b[0m\u001b[0;34m.\u001b[0m\u001b[0mcolumns\u001b[0m\u001b[0;34m\u001b[0m\u001b[0m\n\u001b[0m",
      "\u001b[0;31mAttributeError\u001b[0m: 'int' object has no attribute 'columns'"
     ]
    }
   ],
   "source": [
    "'id' in t.columns"
   ]
  },
  {
   "cell_type": "code",
   "execution_count": 45,
   "metadata": {},
   "outputs": [
    {
     "data": {
      "text/plain": [
       "nan"
      ]
     },
     "execution_count": 45,
     "metadata": {},
     "output_type": "execute_result"
    }
   ],
   "source": [
    "link['train'][t]"
   ]
  },
  {
   "cell_type": "code",
   "execution_count": 46,
   "metadata": {},
   "outputs": [
    {
     "data": {
      "text/plain": [
       "38"
      ]
     },
     "execution_count": 46,
     "metadata": {},
     "output_type": "execute_result"
    }
   ],
   "source": [
    "len(link)"
   ]
  },
  {
   "cell_type": "code",
   "execution_count": 53,
   "metadata": {},
   "outputs": [
    {
     "data": {
      "text/html": [
       "<div>\n",
       "<style scoped>\n",
       "    .dataframe tbody tr th:only-of-type {\n",
       "        vertical-align: middle;\n",
       "    }\n",
       "\n",
       "    .dataframe tbody tr th {\n",
       "        vertical-align: top;\n",
       "    }\n",
       "\n",
       "    .dataframe thead th {\n",
       "        text-align: right;\n",
       "    }\n",
       "</style>\n",
       "<table border=\"1\" class=\"dataframe\">\n",
       "  <thead>\n",
       "    <tr style=\"text-align: right;\">\n",
       "      <th></th>\n",
       "      <th>train</th>\n",
       "      <th>test</th>\n",
       "    </tr>\n",
       "  </thead>\n",
       "  <tbody>\n",
       "    <tr>\n",
       "      <th>0</th>\n",
       "      <td>cnn_1d3_fasttest_last_1_layer.csv</td>\n",
       "      <td>cnn_1d3_fasttest_last_1_layer.csv</td>\n",
       "    </tr>\n",
       "    <tr>\n",
       "      <th>1</th>\n",
       "      <td>cnn_1d3_fasttest_original.csv</td>\n",
       "      <td>cnn_1d3_fasttest_original.csv</td>\n",
       "    </tr>\n",
       "    <tr>\n",
       "      <th>2</th>\n",
       "      <td>cnn_1d3_glove_last_1_layer.csv</td>\n",
       "      <td>cnn_1d3_glove_last_1_layer.csv</td>\n",
       "    </tr>\n",
       "    <tr>\n",
       "      <th>3</th>\n",
       "      <td>cnn_1d3_glove_original.csv</td>\n",
       "      <td>cnn_1d3_glove_original.csv</td>\n",
       "    </tr>\n",
       "    <tr>\n",
       "      <th>4</th>\n",
       "      <td>cnn_1d3_last_1_layer.csv</td>\n",
       "      <td>cnn_1d3_last_1_layer.csv</td>\n",
       "    </tr>\n",
       "    <tr>\n",
       "      <th>5</th>\n",
       "      <td>cnn_1d3_original.csv</td>\n",
       "      <td>cnn_1d3_original.csv</td>\n",
       "    </tr>\n",
       "    <tr>\n",
       "      <th>6</th>\n",
       "      <td>cnn_lstm_fast_last_1_layer.csv</td>\n",
       "      <td>cnn_lstm_fast_last_1_layer.csv</td>\n",
       "    </tr>\n",
       "    <tr>\n",
       "      <th>7</th>\n",
       "      <td>cnn_lstm_fast_last_2_layer.csv</td>\n",
       "      <td>cnn_lstm_fast_last_2_layer.csv</td>\n",
       "    </tr>\n",
       "    <tr>\n",
       "      <th>8</th>\n",
       "      <td>cnn_lstm_fast_original.csv</td>\n",
       "      <td>cnn_lstm_fast_original.csv</td>\n",
       "    </tr>\n",
       "    <tr>\n",
       "      <th>9</th>\n",
       "      <td>cnn_lstm_glove_last_1_layer.csv</td>\n",
       "      <td>cnn_lstm_glove_last_1_layer.csv</td>\n",
       "    </tr>\n",
       "    <tr>\n",
       "      <th>10</th>\n",
       "      <td>cnn_lstm_glove_last_2_layer.csv</td>\n",
       "      <td>cnn_lstm_glove_last_2_layer.csv</td>\n",
       "    </tr>\n",
       "    <tr>\n",
       "      <th>11</th>\n",
       "      <td>cnn_lstm_glove_original.csv</td>\n",
       "      <td>cnn_lstm_glove_original.csv</td>\n",
       "    </tr>\n",
       "    <tr>\n",
       "      <th>12</th>\n",
       "      <td>cnn_lstm_last_1_layer.csv</td>\n",
       "      <td>cnn_lstm_last_1_layer.csv</td>\n",
       "    </tr>\n",
       "    <tr>\n",
       "      <th>13</th>\n",
       "      <td>cnn_lstm_last_2_layer.csv</td>\n",
       "      <td>cnn_lstm_last_2_layer.csv</td>\n",
       "    </tr>\n",
       "    <tr>\n",
       "      <th>14</th>\n",
       "      <td>cnn_lstm_original.csv</td>\n",
       "      <td>cnn_lstm_original.csv</td>\n",
       "    </tr>\n",
       "    <tr>\n",
       "      <th>15</th>\n",
       "      <td>gru_last_1_layer.csv</td>\n",
       "      <td>gru_last_1_layer.csv</td>\n",
       "    </tr>\n",
       "    <tr>\n",
       "      <th>16</th>\n",
       "      <td>gru_last_2_layer.csv</td>\n",
       "      <td>gru_last_2_layer.csv</td>\n",
       "    </tr>\n",
       "    <tr>\n",
       "      <th>17</th>\n",
       "      <td>gru_orginal.csv</td>\n",
       "      <td>gru_orginal.csv</td>\n",
       "    </tr>\n",
       "    <tr>\n",
       "      <th>18</th>\n",
       "      <td>LR_1_1_gram_train.csv</td>\n",
       "      <td>LR_1_1_gram_test.csv</td>\n",
       "    </tr>\n",
       "    <tr>\n",
       "      <th>19</th>\n",
       "      <td>LR_1_2_gram_train.csv</td>\n",
       "      <td>LR_1_2_gram_test.csv</td>\n",
       "    </tr>\n",
       "    <tr>\n",
       "      <th>20</th>\n",
       "      <td>LR_1_3_gram_train.csv</td>\n",
       "      <td>LR_1_3_gram_test.csv</td>\n",
       "    </tr>\n",
       "    <tr>\n",
       "      <th>21</th>\n",
       "      <td>LR_2_2_gram_train.csv</td>\n",
       "      <td>LR_2_2_gram_test.csv</td>\n",
       "    </tr>\n",
       "    <tr>\n",
       "      <th>22</th>\n",
       "      <td>LR_3_3_gram_train.csv</td>\n",
       "      <td>LR_3_3_gram_test.csv</td>\n",
       "    </tr>\n",
       "    <tr>\n",
       "      <th>23</th>\n",
       "      <td>LR_4_4_gram_train.csv</td>\n",
       "      <td>LR_4_4_gram_test.csv</td>\n",
       "    </tr>\n",
       "    <tr>\n",
       "      <th>24</th>\n",
       "      <td>rf_1_1_gram_train.csv</td>\n",
       "      <td>rf_1_1_gram_test.csv</td>\n",
       "    </tr>\n",
       "    <tr>\n",
       "      <th>25</th>\n",
       "      <td>rf_1_2_gram_train.csv</td>\n",
       "      <td>rf_1_2_gram_test.csv</td>\n",
       "    </tr>\n",
       "    <tr>\n",
       "      <th>26</th>\n",
       "      <td>rf_1_3_gram_train.csv</td>\n",
       "      <td>rf_1_3_gram_test.csv</td>\n",
       "    </tr>\n",
       "    <tr>\n",
       "      <th>27</th>\n",
       "      <td>rf_2_2_gram_train.csv</td>\n",
       "      <td>rf_2_2_gram_test.csv</td>\n",
       "    </tr>\n",
       "    <tr>\n",
       "      <th>28</th>\n",
       "      <td>rf_3_3_gram_train.csv</td>\n",
       "      <td>rf_3_3_gram_test.csv</td>\n",
       "    </tr>\n",
       "    <tr>\n",
       "      <th>29</th>\n",
       "      <td>rf_4_4_gram_train.csv</td>\n",
       "      <td>rf_4_4_gram_test.csv</td>\n",
       "    </tr>\n",
       "    <tr>\n",
       "      <th>30</th>\n",
       "      <td>xgb_1_1_gram_train.csv</td>\n",
       "      <td>xgb_1_1_gram_test.csv</td>\n",
       "    </tr>\n",
       "    <tr>\n",
       "      <th>31</th>\n",
       "      <td>xgb_1_2_gram_train.csv</td>\n",
       "      <td>xgb_1_2_gram_test.csv</td>\n",
       "    </tr>\n",
       "    <tr>\n",
       "      <th>32</th>\n",
       "      <td>xgb_1_3_gram_train.csv</td>\n",
       "      <td>xgb_1_3_gram_test.csv</td>\n",
       "    </tr>\n",
       "    <tr>\n",
       "      <th>33</th>\n",
       "      <td>xgb_2_2_gram_train.csv</td>\n",
       "      <td>xgb_2_2_gram_test.csv</td>\n",
       "    </tr>\n",
       "    <tr>\n",
       "      <th>34</th>\n",
       "      <td>xgb_3_3_gram_train.csv</td>\n",
       "      <td>xgb_3_3_gram_test.csv</td>\n",
       "    </tr>\n",
       "    <tr>\n",
       "      <th>35</th>\n",
       "      <td>xgb_4_4_gram_train.csv</td>\n",
       "      <td>xgb_4_4_gram_test.csv</td>\n",
       "    </tr>\n",
       "    <tr>\n",
       "      <th>36</th>\n",
       "      <td>xgb_999_999_gram_train.csv</td>\n",
       "      <td>xgb_999_999_gram_test.csv</td>\n",
       "    </tr>\n",
       "    <tr>\n",
       "      <th>37</th>\n",
       "      <td>LR_999_999_gram_train.csv</td>\n",
       "      <td>LR_999_999_gram_test.csv</td>\n",
       "    </tr>\n",
       "  </tbody>\n",
       "</table>\n",
       "</div>"
      ],
      "text/plain": [
       "                                train                               test\n",
       "0   cnn_1d3_fasttest_last_1_layer.csv  cnn_1d3_fasttest_last_1_layer.csv\n",
       "1       cnn_1d3_fasttest_original.csv      cnn_1d3_fasttest_original.csv\n",
       "2      cnn_1d3_glove_last_1_layer.csv     cnn_1d3_glove_last_1_layer.csv\n",
       "3          cnn_1d3_glove_original.csv         cnn_1d3_glove_original.csv\n",
       "4            cnn_1d3_last_1_layer.csv           cnn_1d3_last_1_layer.csv\n",
       "5                cnn_1d3_original.csv               cnn_1d3_original.csv\n",
       "6      cnn_lstm_fast_last_1_layer.csv     cnn_lstm_fast_last_1_layer.csv\n",
       "7      cnn_lstm_fast_last_2_layer.csv     cnn_lstm_fast_last_2_layer.csv\n",
       "8          cnn_lstm_fast_original.csv         cnn_lstm_fast_original.csv\n",
       "9     cnn_lstm_glove_last_1_layer.csv    cnn_lstm_glove_last_1_layer.csv\n",
       "10    cnn_lstm_glove_last_2_layer.csv    cnn_lstm_glove_last_2_layer.csv\n",
       "11        cnn_lstm_glove_original.csv        cnn_lstm_glove_original.csv\n",
       "12          cnn_lstm_last_1_layer.csv          cnn_lstm_last_1_layer.csv\n",
       "13          cnn_lstm_last_2_layer.csv          cnn_lstm_last_2_layer.csv\n",
       "14              cnn_lstm_original.csv              cnn_lstm_original.csv\n",
       "15               gru_last_1_layer.csv               gru_last_1_layer.csv\n",
       "16               gru_last_2_layer.csv               gru_last_2_layer.csv\n",
       "17                    gru_orginal.csv                    gru_orginal.csv\n",
       "18              LR_1_1_gram_train.csv               LR_1_1_gram_test.csv\n",
       "19              LR_1_2_gram_train.csv               LR_1_2_gram_test.csv\n",
       "20              LR_1_3_gram_train.csv               LR_1_3_gram_test.csv\n",
       "21              LR_2_2_gram_train.csv               LR_2_2_gram_test.csv\n",
       "22              LR_3_3_gram_train.csv               LR_3_3_gram_test.csv\n",
       "23              LR_4_4_gram_train.csv               LR_4_4_gram_test.csv\n",
       "24              rf_1_1_gram_train.csv               rf_1_1_gram_test.csv\n",
       "25              rf_1_2_gram_train.csv               rf_1_2_gram_test.csv\n",
       "26              rf_1_3_gram_train.csv               rf_1_3_gram_test.csv\n",
       "27              rf_2_2_gram_train.csv               rf_2_2_gram_test.csv\n",
       "28              rf_3_3_gram_train.csv               rf_3_3_gram_test.csv\n",
       "29              rf_4_4_gram_train.csv               rf_4_4_gram_test.csv\n",
       "30             xgb_1_1_gram_train.csv              xgb_1_1_gram_test.csv\n",
       "31             xgb_1_2_gram_train.csv              xgb_1_2_gram_test.csv\n",
       "32             xgb_1_3_gram_train.csv              xgb_1_3_gram_test.csv\n",
       "33             xgb_2_2_gram_train.csv              xgb_2_2_gram_test.csv\n",
       "34             xgb_3_3_gram_train.csv              xgb_3_3_gram_test.csv\n",
       "35             xgb_4_4_gram_train.csv              xgb_4_4_gram_test.csv\n",
       "36         xgb_999_999_gram_train.csv          xgb_999_999_gram_test.csv\n",
       "37          LR_999_999_gram_train.csv           LR_999_999_gram_test.csv"
      ]
     },
     "execution_count": 53,
     "metadata": {},
     "output_type": "execute_result"
    }
   ],
   "source": [
    "link"
   ]
  },
  {
   "cell_type": "code",
   "execution_count": null,
   "metadata": {},
   "outputs": [],
   "source": []
  }
 ],
 "metadata": {
  "kernelspec": {
   "display_name": "Python 2",
   "language": "python",
   "name": "python2"
  },
  "language_info": {
   "codemirror_mode": {
    "name": "ipython",
    "version": 2
   },
   "file_extension": ".py",
   "mimetype": "text/x-python",
   "name": "python",
   "nbconvert_exporter": "python",
   "pygments_lexer": "ipython2",
   "version": "2.7.14"
  }
 },
 "nbformat": 4,
 "nbformat_minor": 2
}
