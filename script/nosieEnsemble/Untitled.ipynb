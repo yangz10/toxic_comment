{
 "cells": [
  {
   "cell_type": "code",
   "execution_count": 1,
   "metadata": {},
   "outputs": [],
   "source": [
    "import numpy as np\n",
    "import pandas as pd\n",
    "import os"
   ]
  },
  {
   "cell_type": "code",
   "execution_count": 17,
   "metadata": {},
   "outputs": [],
   "source": [
    "feature = ['cnn_1d3_glove.csv',\n",
    " 'gru.csv',\n",
    " 'Logistic_26_char.csv',\n",
    " 'model_cnn_1d3.csv',\n",
    " 'model_cnn_1d3_fasttest.csv',\n",
    " 'model_cnn_lstm.csv',\n",
    " 'model_cnn_lstm_fast.csv',\n",
    " 'model_cnn_lstm_glove.csv',\n",
    " 'other_lda.csv',\n",
    " 'other_Logistic_submission.csv',\n",
    " 'other_NB_submission.csv',\n",
    " 'xgboost_super_gram_submission.csv']"
   ]
  },
  {
   "cell_type": "code",
   "execution_count": 21,
   "metadata": {},
   "outputs": [],
   "source": [
    "init = pd.read_csv('Attention_model.csv')"
   ]
  },
  {
   "cell_type": "code",
   "execution_count": 45,
   "metadata": {},
   "outputs": [],
   "source": [
    "init_compute = init.iloc[:,1:]"
   ]
  },
  {
   "cell_type": "code",
   "execution_count": 40,
   "metadata": {},
   "outputs": [],
   "source": [
    "num = 0\n",
    "for t in feature:\n",
    "    num=num+1\n",
    "    data = pd.read_csv(t)\n",
    "    init_compute +=data.iloc[:,1:]"
   ]
  },
  {
   "cell_type": "code",
   "execution_count": 47,
   "metadata": {},
   "outputs": [],
   "source": [
    "for t in range(6):\n",
    "    init_compute.iloc[:,t] = init_compute.iloc[:,t]/float(num+1)"
   ]
  },
  {
   "cell_type": "code",
   "execution_count": 50,
   "metadata": {},
   "outputs": [],
   "source": [
    "init.iloc[:,1:] = init_compute"
   ]
  },
  {
   "cell_type": "code",
   "execution_count": 52,
   "metadata": {},
   "outputs": [],
   "source": [
    "init.to_csv('new.csv',index=False)"
   ]
  },
  {
   "cell_type": "code",
   "execution_count": null,
   "metadata": {},
   "outputs": [],
   "source": []
  }
 ],
 "metadata": {
  "kernelspec": {
   "display_name": "Python 3",
   "language": "python",
   "name": "python3"
  },
  "language_info": {
   "codemirror_mode": {
    "name": "ipython",
    "version": 3
   },
   "file_extension": ".py",
   "mimetype": "text/x-python",
   "name": "python",
   "nbconvert_exporter": "python",
   "pygments_lexer": "ipython3",
   "version": "3.6.4"
  }
 },
 "nbformat": 4,
 "nbformat_minor": 2
}
