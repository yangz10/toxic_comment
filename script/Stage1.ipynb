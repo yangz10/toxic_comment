{
 "cells": [
  {
   "cell_type": "code",
   "execution_count": 56,
   "metadata": {},
   "outputs": [],
   "source": [
    "import numpy as np\n",
    "import pandas as pd\n",
    "from keras.layers import Embedding\n",
    "import scipy.sparse\n",
    "\n",
    "from sklearn.model_selection import train_test_split\n",
    "from keras.preprocessing import sequence\n",
    "from keras.models import Sequential\n",
    "from keras.layers import Dense, Dropout, Activation\n",
    "from keras.layers import Embedding\n",
    "from keras.layers import LSTM\n",
    "from keras.layers import Conv1D, MaxPooling1D\n",
    "from sklearn import preprocessing\n",
    "\n",
    "from keras.preprocessing import sequence\n",
    "from keras.models import Sequential\n",
    "from keras.layers import Dense, Dropout, Activation\n",
    "from keras.layers import Embedding\n",
    "from keras.layers import LSTM\n",
    "from keras.layers import Conv1D, MaxPooling1D\n",
    "from keras.datasets import imdb"
   ]
  },
  {
   "cell_type": "code",
   "execution_count": 57,
   "metadata": {},
   "outputs": [],
   "source": [
    "from sklearn import linear_model\n",
    "from sklearn.linear_model import ElasticNet\n",
    "from sklearn.metrics import r2_score\n",
    "\n",
    "import selfFunc"
   ]
  },
  {
   "cell_type": "code",
   "execution_count": 58,
   "metadata": {},
   "outputs": [],
   "source": [
    "train,test = selfFunc.getData()\n",
    "train_sequence,test_sequence = selfFunc.getSequence()"
   ]
  },
  {
   "cell_type": "code",
   "execution_count": 5,
   "metadata": {},
   "outputs": [],
   "source": [
    "xCol = ['ip_0','ip_1', 'ip_2', 'ip_3','caps_vs_length',\n",
    "          'num_punctuation', 'num_unique_words','num_exclamation_marks']\n",
    "yCol = ['toxic','severe_toxic', 'obscene', 'threat', 'insult', 'identity_hate']\n",
    "allCol = xCol+yCol"
   ]
  },
  {
   "cell_type": "markdown",
   "metadata": {},
   "source": [
    "#### old Train"
   ]
  },
  {
   "cell_type": "code",
   "execution_count": 8,
   "metadata": {},
   "outputs": [],
   "source": [
    "# Xtrain = train[xCol][:100]\n",
    "# ytrain = train[yCol][:100]\n",
    "# Xpred = test[xCol][:100]\n",
    "# X_train, X_test, y_train, y_test = train_test_split(Xtrain, ytrain, test_size=0.25, random_state=42)"
   ]
  },
  {
   "cell_type": "markdown",
   "metadata": {},
   "source": [
    "#### sequence train"
   ]
  },
  {
   "cell_type": "code",
   "execution_count": 59,
   "metadata": {},
   "outputs": [],
   "source": [
    "Xtrain = train_sequence\n",
    "ytrain = train[yCol] \n",
    "Xpred = test_sequence\n",
    "X_train, X_test, y_train, y_test = train_test_split(Xtrain, ytrain, test_size=0.5, random_state=42)"
   ]
  },
  {
   "cell_type": "code",
   "execution_count": 60,
   "metadata": {},
   "outputs": [],
   "source": [
    "submission = pd.read_csv('../input/sample_submission.csv')"
   ]
  },
  {
   "cell_type": "markdown",
   "metadata": {},
   "source": [
    "### Try lstm model 3 times\n",
    "1. with not embedding\n",
    "2. fasttest\n",
    "3. glove"
   ]
  },
  {
   "cell_type": "code",
   "execution_count": 76,
   "metadata": {},
   "outputs": [
    {
     "name": "stdout",
     "output_type": "stream",
     "text": [
      "Build model...\n",
      "Train...\n",
      "Train on 119678 samples, validate on 39893 samples\n",
      "Epoch 1/10\n",
      "119678/119678 [==============================] - 232s 2ms/step - loss: 0.1014 - acc: 0.9706 - val_loss: 0.0739 - val_acc: 0.9759\n",
      "Epoch 2/10\n",
      "119678/119678 [==============================] - 239s 2ms/step - loss: 0.0717 - acc: 0.9764 - val_loss: 0.0712 - val_acc: 0.9767\n",
      "Epoch 3/10\n",
      "119678/119678 [==============================] - 237s 2ms/step - loss: 0.0685 - acc: 0.9771 - val_loss: 0.0701 - val_acc: 0.9767\n",
      "Epoch 4/10\n",
      "119678/119678 [==============================] - 215s 2ms/step - loss: 0.0658 - acc: 0.9777 - val_loss: 0.0705 - val_acc: 0.9769\n",
      "Epoch 5/10\n",
      "119678/119678 [==============================] - 241s 2ms/step - loss: 0.0625 - acc: 0.9785 - val_loss: 0.0705 - val_acc: 0.9769\n",
      "Epoch 6/10\n",
      "119678/119678 [==============================] - 235s 2ms/step - loss: 0.0594 - acc: 0.9792 - val_loss: 0.0721 - val_acc: 0.9760\n",
      "Epoch 7/10\n",
      "119678/119678 [==============================] - 225s 2ms/step - loss: 0.0561 - acc: 0.9800 - val_loss: 0.0732 - val_acc: 0.9767\n",
      "Epoch 8/10\n",
      "119678/119678 [==============================] - 229s 2ms/step - loss: 0.0525 - acc: 0.9811 - val_loss: 0.0759 - val_acc: 0.9765\n",
      "Epoch 9/10\n",
      "119678/119678 [==============================] - 233s 2ms/step - loss: 0.0496 - acc: 0.9819 - val_loss: 0.0780 - val_acc: 0.9742\n",
      "Epoch 10/10\n",
      "119678/119678 [==============================] - 232s 2ms/step - loss: 0.0467 - acc: 0.9828 - val_loss: 0.0814 - val_acc: 0.9756\n",
      "39893/39893 [==============================] - 21s 517us/step\n",
      "Test score: 0.08143348276256182\n",
      "Test accuracy: 0.9756264767744683\n",
      "153164/153164 [==============================] - 92s 597us/step\n"
     ]
    }
   ],
   "source": [
    "new = embedding(Xtrain, ytrain,Xpred,epochs=10,max_features=1000)\n",
    "new.cnn_lstm_weights(weightName='cnn_lstm_fast.h5',filename='model_cnn_lstm_fast',submission=submission,embedding_matrix=fastEeb)"
   ]
  },
  {
   "cell_type": "code",
   "execution_count": 77,
   "metadata": {},
   "outputs": [],
   "source": [
    "glove = selfFunc.getFeature(' ',CharFlag=False)"
   ]
  },
  {
   "cell_type": "code",
   "execution_count": 79,
   "metadata": {},
   "outputs": [
    {
     "name": "stdout",
     "output_type": "stream",
     "text": [
      "Build model...\n",
      "Train...\n",
      "Train on 119678 samples, validate on 39893 samples\n",
      "Epoch 1/10\n",
      "119678/119678 [==============================] - 233s 2ms/step - loss: 0.1002 - acc: 0.9704 - val_loss: 0.0754 - val_acc: 0.9758\n",
      "Epoch 2/10\n",
      "119678/119678 [==============================] - 222s 2ms/step - loss: 0.0726 - acc: 0.9762 - val_loss: 0.0714 - val_acc: 0.9767\n",
      "Epoch 3/10\n",
      "119678/119678 [==============================] - 254s 2ms/step - loss: 0.0696 - acc: 0.9768 - val_loss: 0.0708 - val_acc: 0.9766\n",
      "Epoch 4/10\n",
      "119678/119678 [==============================] - 235s 2ms/step - loss: 0.0671 - acc: 0.9774 - val_loss: 0.0703 - val_acc: 0.9767\n",
      "Epoch 5/10\n",
      "119678/119678 [==============================] - 218s 2ms/step - loss: 0.0648 - acc: 0.9779 - val_loss: 0.0704 - val_acc: 0.9769\n",
      "Epoch 6/10\n",
      "119678/119678 [==============================] - 213s 2ms/step - loss: 0.0623 - acc: 0.9784 - val_loss: 0.0712 - val_acc: 0.9768\n",
      "Epoch 7/10\n",
      "119678/119678 [==============================] - 213s 2ms/step - loss: 0.0596 - acc: 0.9791 - val_loss: 0.0726 - val_acc: 0.9767\n",
      "Epoch 8/10\n",
      "119678/119678 [==============================] - 213s 2ms/step - loss: 0.0566 - acc: 0.9799 - val_loss: 0.0735 - val_acc: 0.9764\n",
      "Epoch 9/10\n",
      "119678/119678 [==============================] - 212s 2ms/step - loss: 0.0538 - acc: 0.9807 - val_loss: 0.0740 - val_acc: 0.9763\n",
      "Epoch 10/10\n",
      "119678/119678 [==============================] - 213s 2ms/step - loss: 0.0512 - acc: 0.9815 - val_loss: 0.0765 - val_acc: 0.9754\n",
      "39893/39893 [==============================] - 20s 508us/step\n",
      "Test score: 0.07645932115391978\n",
      "Test accuracy: 0.9753883367697235\n",
      "153164/153164 [==============================] - 88s 574us/step\n"
     ]
    }
   ],
   "source": [
    "new = embedding(Xtrain, ytrain,Xpred,epochs=10,max_features=1000)\n",
    "new.cnn_lstm_weights(weightName='cnn_lstm_glove.h5',filename='model_cnn_lstm_glove',submission=submission,embedding_matrix=glove,embedflag=True)"
   ]
  },
  {
   "cell_type": "markdown",
   "metadata": {},
   "source": [
    "Get Hidden layers as features"
   ]
  },
  {
   "cell_type": "code",
   "execution_count": 16,
   "metadata": {},
   "outputs": [
    {
     "name": "stdout",
     "output_type": "stream",
     "text": [
      "Train...\n",
      "Train on 119678 samples, validate on 39893 samples\n",
      "Epoch 1/10\n",
      "119678/119678 [==============================] - 207s 2ms/step - loss: 0.1102 - acc: 0.9669 - val_loss: 0.0788 - val_acc: 0.9745\n",
      "Epoch 2/10\n",
      "119678/119678 [==============================] - 202s 2ms/step - loss: 0.0738 - acc: 0.9758 - val_loss: 0.0738 - val_acc: 0.9757\n",
      "Epoch 3/10\n",
      "119678/119678 [==============================] - 198s 2ms/step - loss: 0.0703 - acc: 0.9766 - val_loss: 0.0725 - val_acc: 0.9762\n",
      "Epoch 4/10\n",
      "119678/119678 [==============================] - 197s 2ms/step - loss: 0.0675 - acc: 0.9773 - val_loss: 0.0730 - val_acc: 0.9762\n",
      "Epoch 5/10\n",
      "119678/119678 [==============================] - 213s 2ms/step - loss: 0.0641 - acc: 0.9780 - val_loss: 0.0736 - val_acc: 0.9757\n",
      "Epoch 6/10\n",
      "119678/119678 [==============================] - 208s 2ms/step - loss: 0.0600 - acc: 0.9790 - val_loss: 0.0753 - val_acc: 0.9757\n",
      "Epoch 7/10\n",
      "119678/119678 [==============================] - 213s 2ms/step - loss: 0.0560 - acc: 0.9801 - val_loss: 0.0781 - val_acc: 0.9757\n",
      "Epoch 8/10\n",
      "119678/119678 [==============================] - 206s 2ms/step - loss: 0.0521 - acc: 0.9813 - val_loss: 0.0817 - val_acc: 0.9752\n",
      "Epoch 9/10\n",
      "119678/119678 [==============================] - 214s 2ms/step - loss: 0.0486 - acc: 0.9823 - val_loss: 0.0835 - val_acc: 0.9755\n",
      "Epoch 10/10\n",
      "119678/119678 [==============================] - 209s 2ms/step - loss: 0.0460 - acc: 0.9832 - val_loss: 0.0872 - val_acc: 0.9752\n",
      "39893/39893 [==============================] - 19s 483us/step\n",
      "Test score: 0.08717840862762595\n",
      "Test accuracy: 0.9752337584219313\n",
      "153164/153164 [==============================] - 80s 523us/step\n"
     ]
    }
   ],
   "source": [
    "new = embedding(Xtrain, ytrain,Xpred,epochs=10,max_features=1000)\n",
    "new.cnn_1d3_train(weightName='cnn_1d3.h5', filename='cnn_1d3', submission=submission, embedding_matrix=None, embedflag=False)"
   ]
  },
  {
   "cell_type": "code",
   "execution_count": 53,
   "metadata": {},
   "outputs": [
    {
     "name": "stdout",
     "output_type": "stream",
     "text": [
      "159571/159571 [==============================] - 85s 531us/step\n"
     ]
    }
   ],
   "source": [
    "from models import embedding\n",
    "new = embedding(Xtrain, ytrain,Xpred,epochs=10,max_features=1000)\n",
    "model = new.cnn_1d3(embedflag=False,embedding_matrix=None)\n",
    "model.load_weights('weightBackup/cnn_1d3.h5')\n",
    "model.layers.pop()\n",
    "new.outputFetures(model,'feture_cnn_1d3')"
   ]
  },
  {
   "cell_type": "code",
   "execution_count": 24,
   "metadata": {},
   "outputs": [],
   "source": [
    "fastEeb = selfFunc.getFeature('fastEeb',CharFlag=False)\n",
    "glove = selfFunc.getFeature(' ',CharFlag=False)"
   ]
  },
  {
   "cell_type": "code",
   "execution_count": 27,
   "metadata": {},
   "outputs": [],
   "source": []
  },
  {
   "cell_type": "code",
   "execution_count": 28,
   "metadata": {},
   "outputs": [
    {
     "name": "stdout",
     "output_type": "stream",
     "text": [
      "Build model...\n",
      "159571/159571 [==============================] - 94s 589us/step\n"
     ]
    }
   ],
   "source": [
    "new = embedding(Xtrain, ytrain,Xpred,epochs=10,max_features=1000)\n",
    "model = new.cnn_lstm_model(embedflag=True,embedding_matrix=glove)\n",
    "model.load_weights('weightBackup/cnn_lstm_glove.h5')\n",
    "model.layers.pop()\n",
    "model.layers.pop()\n",
    "model.layers.pop()\n",
    "new.outputFetures(model,'feture_cnn_lstm_glove')"
   ]
  },
  {
   "cell_type": "code",
   "execution_count": 29,
   "metadata": {},
   "outputs": [
    {
     "name": "stdout",
     "output_type": "stream",
     "text": [
      "Train...\n",
      "Train on 119678 samples, validate on 39893 samples\n",
      "Epoch 1/10\n",
      "119678/119678 [==============================] - 206s 2ms/step - loss: 0.1020 - acc: 0.9700 - val_loss: 0.0746 - val_acc: 0.9758\n",
      "Epoch 2/10\n",
      "119678/119678 [==============================] - 210s 2ms/step - loss: 0.0721 - acc: 0.9762 - val_loss: 0.0730 - val_acc: 0.9761\n",
      "Epoch 3/10\n",
      "119678/119678 [==============================] - 204s 2ms/step - loss: 0.0686 - acc: 0.9769 - val_loss: 0.0727 - val_acc: 0.9761\n",
      "Epoch 4/10\n",
      "119678/119678 [==============================] - 208s 2ms/step - loss: 0.0649 - acc: 0.9780 - val_loss: 0.0725 - val_acc: 0.9761\n",
      "Epoch 5/10\n",
      "119678/119678 [==============================] - 209s 2ms/step - loss: 0.0608 - acc: 0.9788 - val_loss: 0.0760 - val_acc: 0.9759\n",
      "Epoch 6/10\n",
      "119678/119678 [==============================] - 208s 2ms/step - loss: 0.0564 - acc: 0.9800 - val_loss: 0.0753 - val_acc: 0.9753\n",
      "Epoch 7/10\n",
      "119678/119678 [==============================] - 209s 2ms/step - loss: 0.0524 - acc: 0.9811 - val_loss: 0.0769 - val_acc: 0.9749\n",
      "Epoch 8/10\n",
      "119678/119678 [==============================] - 217s 2ms/step - loss: 0.0488 - acc: 0.9822 - val_loss: 0.0807 - val_acc: 0.9751\n",
      "Epoch 9/10\n",
      "119678/119678 [==============================] - 214s 2ms/step - loss: 0.0462 - acc: 0.9830 - val_loss: 0.0827 - val_acc: 0.9736\n",
      "Epoch 10/10\n",
      "119678/119678 [==============================] - 216s 2ms/step - loss: 0.0436 - acc: 0.9839 - val_loss: 0.0869 - val_acc: 0.9721\n",
      "39893/39893 [==============================] - 20s 502us/step\n",
      "Test score: 0.08692746143006025\n",
      "Test accuracy: 0.9720878411067885\n",
      "153164/153164 [==============================] - 86s 560us/step\n"
     ]
    }
   ],
   "source": [
    "new = embedding(Xtrain, ytrain,Xpred,epochs=10,max_features=1000)\n",
    "new.cnn_1d3_train(weightName='cnn_1d3_fasttest.h5', filename='cnn_1d3_fasttest', submission=submission, embedding_matrix=fastEeb, embedflag=True)"
   ]
  },
  {
   "cell_type": "code",
   "execution_count": 30,
   "metadata": {},
   "outputs": [
    {
     "name": "stdout",
     "output_type": "stream",
     "text": [
      "Train...\n",
      "Train on 119678 samples, validate on 39893 samples\n",
      "Epoch 1/10\n",
      "119678/119678 [==============================] - 213s 2ms/step - loss: 0.1141 - acc: 0.9654 - val_loss: 0.0790 - val_acc: 0.9748\n",
      "Epoch 2/10\n",
      "119678/119678 [==============================] - 217s 2ms/step - loss: 0.0740 - acc: 0.9758 - val_loss: 0.0732 - val_acc: 0.9761\n",
      "Epoch 3/10\n",
      "119678/119678 [==============================] - 215s 2ms/step - loss: 0.0705 - acc: 0.9766 - val_loss: 0.0729 - val_acc: 0.9761\n",
      "Epoch 4/10\n",
      "119678/119678 [==============================] - 221s 2ms/step - loss: 0.0676 - acc: 0.9772 - val_loss: 0.0721 - val_acc: 0.9762\n",
      "Epoch 5/10\n",
      "119678/119678 [==============================] - 222s 2ms/step - loss: 0.0645 - acc: 0.9780 - val_loss: 0.0759 - val_acc: 0.9762\n",
      "Epoch 6/10\n",
      "119678/119678 [==============================] - 215s 2ms/step - loss: 0.0614 - acc: 0.9788 - val_loss: 0.0733 - val_acc: 0.9763\n",
      "Epoch 7/10\n",
      "119678/119678 [==============================] - 214s 2ms/step - loss: 0.0581 - acc: 0.9796 - val_loss: 0.0776 - val_acc: 0.9740\n",
      "Epoch 8/10\n",
      "119678/119678 [==============================] - 216s 2ms/step - loss: 0.0549 - acc: 0.9804 - val_loss: 0.0755 - val_acc: 0.9753\n",
      "Epoch 9/10\n",
      "119678/119678 [==============================] - 206s 2ms/step - loss: 0.0519 - acc: 0.9814 - val_loss: 0.0784 - val_acc: 0.9747\n",
      "Epoch 10/10\n",
      "119678/119678 [==============================] - 217s 2ms/step - loss: 0.0491 - acc: 0.9822 - val_loss: 0.0814 - val_acc: 0.9752\n",
      "39893/39893 [==============================] - 21s 520us/step\n",
      "Test score: 0.08142569031362529\n",
      "Test accuracy: 0.9751752679475828\n",
      "153164/153164 [==============================] - 88s 573us/step\n"
     ]
    }
   ],
   "source": [
    "new = embedding(Xtrain, ytrain,Xpred,epochs=10,max_features=1000)\n",
    "new.cnn_1d3_train(weightName='cnn_1d3_glove.h5', filename='cnn_1d3_glove', submission=submission, embedding_matrix=glove, embedflag=True)"
   ]
  },
  {
   "cell_type": "code",
   "execution_count": 49,
   "metadata": {},
   "outputs": [
    {
     "name": "stdout",
     "output_type": "stream",
     "text": [
      "159571/159571 [==============================] - 85s 534us/step\n"
     ]
    }
   ],
   "source": [
    "new = embedding(Xtrain, ytrain,Xpred,epochs=10,max_features=1000)\n",
    "model = new.cnn_1d3(embedflag=True,embedding_matrix=fastEeb)\n",
    "model.load_weights('weightBackup/cnn_1d3_fasttest.h5',by_name=True)\n",
    "model.layers.pop()\n",
    "new.outputFetures(model,'feture_cnn_1d3_fasttest')"
   ]
  },
  {
   "cell_type": "code",
   "execution_count": 50,
   "metadata": {},
   "outputs": [
    {
     "name": "stdout",
     "output_type": "stream",
     "text": [
      "159571/159571 [==============================] - 83s 517us/step\n"
     ]
    }
   ],
   "source": [
    "new = embedding(Xtrain, ytrain,Xpred,epochs=10,max_features=1000)\n",
    "model = new.cnn_1d3(embedflag=True,embedding_matrix=glove)\n",
    "model.load_weights('weightBackup/cnn_1d3_fasttest.h5',by_name=True)\n",
    "model.layers.pop()\n",
    "new.outputFetures(model,'feture_cnn_1d3_fasttest')"
   ]
  },
  {
   "cell_type": "markdown",
   "metadata": {},
   "source": [
    "#### Gru Model"
   ]
  },
  {
   "cell_type": "code",
   "execution_count": 36,
   "metadata": {},
   "outputs": [
    {
     "name": "stdout",
     "output_type": "stream",
     "text": [
      "Train...\n",
      "Train on 119678 samples, validate on 39893 samples\n",
      "Epoch 1/10\n",
      "119678/119678 [==============================] - 604s 5ms/step - loss: 0.1073 - acc: 0.9712 - val_loss: 0.0610 - val_acc: 0.9794\n",
      "Epoch 2/10\n",
      "119678/119678 [==============================] - 607s 5ms/step - loss: 0.0604 - acc: 0.9797 - val_loss: 0.0593 - val_acc: 0.9800\n",
      "Epoch 3/10\n",
      "119678/119678 [==============================] - 595s 5ms/step - loss: 0.0581 - acc: 0.9801 - val_loss: 0.0585 - val_acc: 0.9800\n",
      "Epoch 4/10\n",
      "119678/119678 [==============================] - 602s 5ms/step - loss: 0.0564 - acc: 0.9807 - val_loss: 0.0582 - val_acc: 0.9802\n",
      "Epoch 5/10\n",
      "119678/119678 [==============================] - 593s 5ms/step - loss: 0.0547 - acc: 0.9810 - val_loss: 0.0579 - val_acc: 0.9802\n",
      "Epoch 6/10\n",
      "119678/119678 [==============================] - 606s 5ms/step - loss: 0.0530 - acc: 0.9815 - val_loss: 0.0579 - val_acc: 0.9806\n",
      "Epoch 7/10\n",
      "119678/119678 [==============================] - 563s 5ms/step - loss: 0.0515 - acc: 0.9818 - val_loss: 0.0571 - val_acc: 0.9808\n",
      "Epoch 8/10\n",
      "119678/119678 [==============================] - 586s 5ms/step - loss: 0.0502 - acc: 0.9821 - val_loss: 0.0574 - val_acc: 0.9806\n",
      "Epoch 9/10\n",
      "119678/119678 [==============================] - 683s 6ms/step - loss: 0.0485 - acc: 0.9826 - val_loss: 0.0581 - val_acc: 0.9806\n",
      "Epoch 10/10\n",
      "119678/119678 [==============================] - 605s 5ms/step - loss: 0.0470 - acc: 0.9831 - val_loss: 0.0586 - val_acc: 0.9803\n",
      "39893/39893 [==============================] - 57s 1ms/step\n",
      "Test score: 0.05864305646844809\n",
      "Test accuracy: 0.9803223691891348\n",
      "153164/153164 [==============================] - 230s 2ms/step\n"
     ]
    }
   ],
   "source": [
    "new = embedding(Xtrain, ytrain,Xpred,epochs=10,max_features=1000,lstm_output_size=50)\n",
    "new.gru_train(weightName='gru.h5', filename='gru', submission=submission, embedding_matrix=None, embedflag=False)"
   ]
  },
  {
   "cell_type": "code",
   "execution_count": 37,
   "metadata": {},
   "outputs": [
    {
     "name": "stdout",
     "output_type": "stream",
     "text": [
      "Train...\n",
      "Train on 119678 samples, validate on 39893 samples\n",
      "Epoch 1/10\n",
      "119678/119678 [==============================] - 916s 8ms/step - loss: 0.1046 - acc: 0.9675 - val_loss: 0.0616 - val_acc: 0.9795\n",
      "Epoch 2/10\n",
      "119678/119678 [==============================] - 900s 8ms/step - loss: 0.0610 - acc: 0.9795 - val_loss: 0.0589 - val_acc: 0.9800\n",
      "Epoch 3/10\n",
      "119678/119678 [==============================] - 913s 8ms/step - loss: 0.0583 - acc: 0.9802 - val_loss: 0.0592 - val_acc: 0.9797\n",
      "Epoch 4/10\n",
      "119678/119678 [==============================] - 896s 7ms/step - loss: 0.0569 - acc: 0.9805 - val_loss: 0.0581 - val_acc: 0.9803\n",
      "Epoch 5/10\n",
      "119678/119678 [==============================] - 872s 7ms/step - loss: 0.0550 - acc: 0.9809 - val_loss: 0.0580 - val_acc: 0.9804\n",
      "Epoch 6/10\n",
      "119678/119678 [==============================] - 832s 7ms/step - loss: 0.0533 - acc: 0.9813 - val_loss: 0.0572 - val_acc: 0.9807\n",
      "Epoch 7/10\n",
      "119678/119678 [==============================] - 936s 8ms/step - loss: 0.0519 - acc: 0.9815 - val_loss: 0.0572 - val_acc: 0.9803\n",
      "Epoch 8/10\n",
      "119678/119678 [==============================] - 916s 8ms/step - loss: 0.0503 - acc: 0.9821 - val_loss: 0.0574 - val_acc: 0.9806\n",
      "Epoch 9/10\n",
      "119678/119678 [==============================] - 921s 8ms/step - loss: 0.0485 - acc: 0.9825 - val_loss: 0.0591 - val_acc: 0.9806\n",
      "Epoch 10/10\n",
      "119678/119678 [==============================] - 910s 8ms/step - loss: 0.0470 - acc: 0.9829 - val_loss: 0.0588 - val_acc: 0.9801\n",
      "39893/39893 [==============================] - 84s 2ms/step\n",
      "Test score: 0.05882875363322877\n",
      "Test accuracy: 0.9801427192403868\n",
      "153164/153164 [==============================] - 339s 2ms/step\n"
     ]
    }
   ],
   "source": [
    "new = embedding(Xtrain, ytrain,Xpred,epochs=10,max_features=1000,lstm_output_size=100)\n",
    "new.gru_train(weightName='gru_fasttest.h5', filename='gru_fasttest', submission=submission, embedding_matrix=fastEeb, embedflag=False)"
   ]
  },
  {
   "cell_type": "code",
   "execution_count": 39,
   "metadata": {},
   "outputs": [
    {
     "name": "stdout",
     "output_type": "stream",
     "text": [
      "159571/159571 [==============================] - 267s 2ms/step\n"
     ]
    }
   ],
   "source": [
    "new = embedding(Xtrain, ytrain,Xpred,epochs=10,max_features=1000)\n",
    "model = new.gru_model(embedflag=True,embedding_matrix=glove)\n",
    "model.load_weights('weightBackup/gru.h5',by_name=True)\n",
    "model.layers.pop()\n",
    "model.layers.pop()\n",
    "model.layers.pop()\n",
    "new.outputFetures(model,'gru')"
   ]
  },
  {
   "cell_type": "code",
   "execution_count": null,
   "metadata": {},
   "outputs": [],
   "source": [
    "new = embedding(Xtrain, ytrain,Xpred,epochs=10,max_features=1000)\n",
    "model = new.gru_model(embedflag=True,embedding_matrix=glove)\n",
    "model.load_weights('weightBackup/gru.h5',by_name=True)\n",
    "model.layers.pop()\n",
    "model.layers.pop()\n",
    "model.layers.pop()\n",
    "model.layers.pop()\n",
    "new.outputFetures(model,'gru_4lay')"
   ]
  },
  {
   "cell_type": "code",
   "execution_count": 45,
   "metadata": {},
   "outputs": [
    {
     "name": "stdout",
     "output_type": "stream",
     "text": [
      "_________________________________________________________________\n",
      "Layer (type)                 Output Shape              Param #   \n",
      "=================================================================\n",
      "input_20 (InputLayer)        (None, 150)               0         \n",
      "_________________________________________________________________\n",
      "embedding_25 (Embedding)     (None, 150, 300)          300000    \n",
      "_________________________________________________________________\n",
      "bidirectional_14 (Bidirectio (None, 150, 140)          207760    \n",
      "_________________________________________________________________\n",
      "global_max_pooling1d_18 (Glo (None, 140)               0         \n",
      "_________________________________________________________________\n",
      "dense_36 (Dense)             (None, 50)                7050      \n",
      "_________________________________________________________________\n",
      "dropout_23 (Dropout)         (None, 50)                0         \n",
      "_________________________________________________________________\n",
      "dense_37 (Dense)             (None, 6)                 306       \n",
      "=================================================================\n",
      "Total params: 515,116\n",
      "Trainable params: 515,116\n",
      "Non-trainable params: 0\n",
      "_________________________________________________________________\n"
     ]
    }
   ],
   "source": [
    "new = embedding(Xtrain, ytrain,Xpred,epochs=10,max_features=1000)\n",
    "model = new.gru_model(embedflag=True,embedding_matrix=glove)\n",
    "model.summary()"
   ]
  },
  {
   "cell_type": "code",
   "execution_count": 44,
   "metadata": {},
   "outputs": [
    {
     "name": "stdout",
     "output_type": "stream",
     "text": [
      "159571/159571 [==============================] - 268s 2ms/step\n"
     ]
    }
   ],
   "source": [
    "new = embedding(Xtrain, ytrain,Xpred,epochs=10,max_features=1000)\n",
    "model = new.gru_model(embedflag=True,embedding_matrix=glove)\n",
    "model.load_weights('weightBackup/gru_fasttest.h5',by_name=True)\n",
    "model.layers.pop()\n",
    "model.layers.pop()\n",
    "new.outputFetures(model,'feture_gru_fasttest')"
   ]
  },
  {
   "cell_type": "code",
   "execution_count": null,
   "metadata": {},
   "outputs": [],
   "source": [
    "new = embedding(Xtrain, ytrain,Xpred,epochs=10,max_features=1000)\n",
    "model = new.gru_model(embedflag=True,embedding_matrix=glove)\n",
    "model.load_weights('weightBackup/gru_fasttest.h5',by_name=True)\n",
    "model.layers.pop()\n",
    "model.layers.pop()\n",
    "model.layers.pop()\n",
    "model.layers.pop()\n",
    "new.outputFetures(model,'gru_fasttest_4lay')"
   ]
  },
  {
   "cell_type": "markdown",
   "metadata": {},
   "source": [
    "## Restart"
   ]
  },
  {
   "cell_type": "code",
   "execution_count": 77,
   "metadata": {},
   "outputs": [],
   "source": [
    "class embedding():\n",
    "    def __init__(self, X_train, y_train, X_pred, max_features=20000, maxlen=150,\n",
    "                 embedding_size=300, kernel_size=5,\n",
    "                 filters=64, pool_size=4, lstm_output_size=70,\n",
    "                 batch_size=256, epochs=5):\n",
    "        self.max_features = max_features\n",
    "        self.maxlen = maxlen\n",
    "        self.X_pred = X_pred\n",
    "        self.embedding_size = embedding_size\n",
    "        self.kernel_size = kernel_size\n",
    "        self.filters = filters\n",
    "        self.pool_size = pool_size\n",
    "        self.lstm_output_size = lstm_output_size\n",
    "        self.batch_size = batch_size\n",
    "        self.epochs = epochs\n",
    "        self.init_X_train = X_train\n",
    "        self.init_y_train = y_train\n",
    "        self.X_train, self.X_test, self.y_train, self.y_test = train_test_split(X_train, y_train,\n",
    "                                                                                test_size=0.25,\n",
    "                                                                                random_state=42)\n",
    "\n",
    "    def train_test(self):\n",
    "        return (self.X_train, self.X_test, self.y_train, self.y_test )\n",
    "\n",
    "    def train(self, model, filename, weightName, submission):\n",
    "        print('Train...')\n",
    "        model.fit(self.X_train, self.y_train,\n",
    "                  batch_size=self.batch_size,\n",
    "                  epochs=self.epochs,\n",
    "                  validation_data=(self.X_test, self.y_test))\n",
    "        score, acc = model.evaluate(self.X_test, self.y_test, batch_size=self.batch_size)\n",
    "        print('Test score:', score)\n",
    "        print('Test accuracy:', acc)\n",
    "        y_pred = model.predict(self.X_pred, batch_size=1024, verbose=1)\n",
    "\n",
    "        featureNeam = filename\n",
    "\n",
    "        submission = submission.iloc[:y_pred.shape[0], :]\n",
    "        submission[[\"toxic\", \"severe_toxic\", \"obscene\", \"threat\", \"insult\", \"identity_hate\"]] = y_pred\n",
    "        filename = 'modelBackup/' + str(filename) + '.csv'\n",
    "        submission.to_csv(filename, index=False)\n",
    "        weightName = 'weightBackup/' + str(weightName)\n",
    "        model.save_weights(weightName)\n",
    "\n",
    "        embedding.outputFetures(self,model,featureNeam)\n",
    "\n",
    "\n",
    "    def outputFetures(self,model,filename):\n",
    "        y_pred = model.predict(self.init_X_train, batch_size=1024, verbose=1)\n",
    "        y_pred_y = model.predict(self.X_pred, batch_size=1024, verbose=1)\n",
    "        train_fileName = 'train_outcome/' + filename + '.csv'\n",
    "        test_fileName = 'test_outcome/' + filename + '.csv'\n",
    "\n",
    "\n",
    "        y_pred = pd.DataFrame(y_pred)\n",
    "        y_pred_y = pd.DataFrame(y_pred_y)\n",
    "        y_pred.to_csv(train_fileName, index=False)\n",
    "        y_pred_y.to_csv(test_fileName, index=False)\n",
    "\n",
    "\n",
    "    def cnn_lstm_model(self,embedflag,embedding_matrix):\n",
    "        print('Build model...')\n",
    "        model = Sequential()\n",
    "        if embedflag:\n",
    "            model.add(Embedding(self.max_features, self.embedding_size, weights=[embedding_matrix],\n",
    "                                input_length=self.maxlen))\n",
    "        else:\n",
    "            model.add(Embedding(self.max_features, self.embedding_size,\n",
    "                                input_length=self.maxlen))\n",
    "\n",
    "        model.add(Dropout(0.25))\n",
    "        model.add(Conv1D(self.filters,\n",
    "                         self.kernel_size,\n",
    "                         padding='valid',\n",
    "                         activation='relu',\n",
    "                         strides=1))\n",
    "        model.add(MaxPooling1D(pool_size=self.pool_size))\n",
    "        model.add(LSTM(self.lstm_output_size))\n",
    "        model.add(Dense(6))\n",
    "        model.add(Activation('sigmoid'))\n",
    "\n",
    "        model.compile(loss='binary_crossentropy',\n",
    "                      optimizer='adam',\n",
    "                      metrics=['accuracy'])\n",
    "        return model\n",
    "\n",
    "    def cnn_lstm_features(self, embedflag, embedding_matrix, filename):\n",
    "        model = embedding.cnn_lstm_model(self, embedflag, embedding_matrix)\n",
    "        model.layers.pop()\n",
    "        model.layers.pop()\n",
    "        embedding.outputFetures(self,model,filename)\n",
    "\n",
    "    def cnn_lstm_weights(self, weightName, filename, submission, embedding_matrix, embedflag=False):\n",
    "        model = embedding.cnn_lstm_model(self,embedflag,embedding_matrix)\n",
    "        embedding.train(self, model, filename, weightName, submission)\n",
    "\n",
    "    def cnn_1d3(self, embedflag, embedding_matrix):\n",
    "        sequence_input = Input(shape=(self.maxlen,))\n",
    "        if embedflag:\n",
    "            x = Embedding(self.max_features, self.embedding_size, weights=[embedding_matrix])(sequence_input)\n",
    "        else:\n",
    "            x = Embedding(self.max_features, self.embedding_size)(sequence_input)\n",
    "        x = Dropout(0.2)(x)\n",
    "        x = Conv1D(self.filters, self.kernel_size, activation='relu')(x)\n",
    "        x = MaxPooling1D(self.pool_size)(x)\n",
    "        x = Conv1D(self.filters, self.kernel_size, activation='tanh')(x)\n",
    "        x = MaxPooling1D(self.pool_size)(x)\n",
    "        x = Conv1D(self.filters, self.kernel_size, activation='relu')(x)\n",
    "        x = GlobalMaxPooling1D()(x)\n",
    "        x = Dense(6, activation='sigmoid')(x)\n",
    "        model = Model(inputs=sequence_input, outputs=x)\n",
    "        model.compile(loss='binary_crossentropy',\n",
    "                      optimizer='adam',\n",
    "                      metrics=['accuracy'])\n",
    "        return model\n",
    "\n",
    "    def cnn_1d3_train(self, weightName, filename, submission, embedding_matrix, embedflag=False):\n",
    "        model = embedding.cnn_1d3(self, embedflag, embedding_matrix)\n",
    "        embedding.train(self, model, filename, weightName, submission)\n",
    "\n",
    "    def cnn_1d3_features(self,filename,embedding_matrix, embedflag=False):\n",
    "        model = embedding.cnn_1d3(self, embedflag, embedding_matrix)\n",
    "        model.layers.pop()\n",
    "        model.layers.pop()\n",
    "        embedding.outputFetures(self,model,filename)\n",
    "\n",
    "    def gru_model(self, embedflag, embedding_matrix):\n",
    "        inp = Input(shape=(self.maxlen,))\n",
    "        if embedflag:\n",
    "            x = Embedding(self.max_features, self.embedding_size, weights=[embedding_matrix])(inp)\n",
    "        else:\n",
    "            x = Embedding(self.max_features, self.embedding_size)(inp)\n",
    "        x = Bidirectional(LSTM(self.lstm_output_size, return_sequences=True, dropout=0.1, recurrent_dropout=0.1))(x)\n",
    "        x = GlobalMaxPooling1D()(x)\n",
    "        x = Dense(50, activation=\"relu\")(x)\n",
    "        x = Dropout(0.1)(x)\n",
    "        x = Dense(6, activation=\"sigmoid\")(x)\n",
    "        model = Model(inputs=inp, outputs=x)\n",
    "        model.compile(loss='binary_crossentropy', optimizer='adam', metrics=['accuracy'])\n",
    "        return model\n",
    "\n",
    "    def gru_train(self, weightName, filename, submission, embedding_matrix, embedflag=False):\n",
    "        model = embedding.gru_model(self, embedflag, embedding_matrix)\n",
    "        embedding.train(self, model, filename, weightName, submission)"
   ]
  },
  {
   "cell_type": "code",
   "execution_count": 61,
   "metadata": {},
   "outputs": [],
   "source": [
    "from models import embedding\n",
    "fastEeb = selfFunc.getFeature('fastEeb',CharFlag=False)\n",
    "glove = selfFunc.getFeature(' ',CharFlag=False)"
   ]
  },
  {
   "cell_type": "markdown",
   "metadata": {},
   "source": [
    "##### cnn_lstm.h5"
   ]
  },
  {
   "cell_type": "code",
   "execution_count": 67,
   "metadata": {},
   "outputs": [
    {
     "name": "stdout",
     "output_type": "stream",
     "text": [
      "Build model...\n",
      "159571/159571 [==============================] - 90s 567us/step\n",
      "153164/153164 [==============================] - 87s 567us/step\n"
     ]
    }
   ],
   "source": [
    "new = embedding(Xtrain, ytrain,Xpred,epochs=10,max_features=20000)\n",
    "model = new.cnn_lstm_model(embedflag=False,embedding_matrix=None)\n",
    "model.load_weights('weightBackup/cnn_lstm.h5')\n",
    "new.outputFetures(model,'cnn_lstm_original')"
   ]
  },
  {
   "cell_type": "code",
   "execution_count": 68,
   "metadata": {},
   "outputs": [
    {
     "name": "stdout",
     "output_type": "stream",
     "text": [
      "_________________________________________________________________\n",
      "Layer (type)                 Output Shape              Param #   \n",
      "=================================================================\n",
      "embedding_37 (Embedding)     (None, 150, 300)          6000000   \n",
      "_________________________________________________________________\n",
      "dropout_35 (Dropout)         (None, 150, 300)          0         \n",
      "_________________________________________________________________\n",
      "conv1d_45 (Conv1D)           (None, 146, 64)           96064     \n",
      "_________________________________________________________________\n",
      "max_pooling1d_33 (MaxPooling (None, 36, 64)            0         \n",
      "_________________________________________________________________\n",
      "lstm_23 (LSTM)               (None, 70)                37800     \n",
      "_________________________________________________________________\n",
      "dense_49 (Dense)             (None, 6)                 426       \n",
      "_________________________________________________________________\n",
      "activation_9 (Activation)    (None, 6)                 0         \n",
      "=================================================================\n",
      "Total params: 6,134,290\n",
      "Trainable params: 6,134,290\n",
      "Non-trainable params: 0\n",
      "_________________________________________________________________\n"
     ]
    }
   ],
   "source": [
    "model.summary()"
   ]
  },
  {
   "cell_type": "code",
   "execution_count": 72,
   "metadata": {},
   "outputs": [
    {
     "name": "stdout",
     "output_type": "stream",
     "text": [
      "Build model...\n",
      "159571/159571 [==============================] - 87s 548us/step\n",
      "153164/153164 [==============================] - 89s 582us/step\n"
     ]
    }
   ],
   "source": [
    "new = embedding(Xtrain, ytrain,Xpred,epochs=10,max_features=20000)\n",
    "model = new.cnn_lstm_model(embedflag=False,embedding_matrix=None)\n",
    "model.load_weights('weightBackup/cnn_lstm.h5')\n",
    "model.layers.pop()\n",
    "new.outputFetures(model,'cnn_lstm_last_1_layer')"
   ]
  },
  {
   "cell_type": "code",
   "execution_count": 73,
   "metadata": {},
   "outputs": [
    {
     "name": "stdout",
     "output_type": "stream",
     "text": [
      "Build model...\n",
      "159571/159571 [==============================] - 90s 566us/step\n",
      "153164/153164 [==============================] - 84s 549us/step\n"
     ]
    }
   ],
   "source": [
    "new = embedding(Xtrain, ytrain,Xpred,epochs=10,max_features=20000)\n",
    "model = new.cnn_lstm_model(embedflag=False,embedding_matrix=None)\n",
    "model.load_weights('weightBackup/cnn_lstm.h5')\n",
    "model.layers.pop()\n",
    "model.layers.pop()\n",
    "new.outputFetures(model,'cnn_lstm_last_2_layer')"
   ]
  },
  {
   "cell_type": "markdown",
   "metadata": {},
   "source": [
    "##### cnn_lstm_fast.h5"
   ]
  },
  {
   "cell_type": "code",
   "execution_count": 76,
   "metadata": {},
   "outputs": [
    {
     "name": "stdout",
     "output_type": "stream",
     "text": [
      "Build model...\n",
      "_________________________________________________________________\n",
      "Layer (type)                 Output Shape              Param #   \n",
      "=================================================================\n",
      "embedding_45 (Embedding)     (None, 150, 300)          300000    \n",
      "_________________________________________________________________\n",
      "dropout_41 (Dropout)         (None, 150, 300)          0         \n",
      "_________________________________________________________________\n",
      "conv1d_51 (Conv1D)           (None, 146, 64)           96064     \n",
      "_________________________________________________________________\n",
      "max_pooling1d_39 (MaxPooling (None, 36, 64)            0         \n",
      "_________________________________________________________________\n",
      "lstm_29 (LSTM)               (None, 70)                37800     \n",
      "_________________________________________________________________\n",
      "dense_55 (Dense)             (None, 6)                 426       \n",
      "_________________________________________________________________\n",
      "activation_15 (Activation)   (None, 6)                 0         \n",
      "=================================================================\n",
      "Total params: 434,290\n",
      "Trainable params: 434,290\n",
      "Non-trainable params: 0\n",
      "_________________________________________________________________\n"
     ]
    }
   ],
   "source": [
    "new = embedding(Xtrain, ytrain,Xpred,epochs=10,max_features=1000)\n",
    "model = new.cnn_lstm_model(embedflag=True,embedding_matrix=fastEeb)\n",
    "model.summary()"
   ]
  },
  {
   "cell_type": "code",
   "execution_count": 79,
   "metadata": {},
   "outputs": [
    {
     "name": "stdout",
     "output_type": "stream",
     "text": [
      "Build model...\n",
      "159571/159571 [==============================] - 93s 582us/step\n",
      "153164/153164 [==============================] - 86s 564us/step\n"
     ]
    }
   ],
   "source": [
    "new = embedding(Xtrain, ytrain,Xpred,epochs=10,max_features=1000)\n",
    "model = new.cnn_lstm_model(embedflag=True,embedding_matrix=fastEeb)\n",
    "model.load_weights('weightBackup/cnn_lstm_fast.h5')\n",
    "new.outputFetures(model,'cnn_lstm_fast_original')"
   ]
  },
  {
   "cell_type": "code",
   "execution_count": 80,
   "metadata": {},
   "outputs": [
    {
     "name": "stdout",
     "output_type": "stream",
     "text": [
      "Build model...\n",
      "159571/159571 [==============================] - 96s 604us/step\n",
      "153164/153164 [==============================] - 90s 585us/step\n"
     ]
    }
   ],
   "source": [
    "new = embedding(Xtrain, ytrain,Xpred,epochs=10,max_features=1000)\n",
    "model = new.cnn_lstm_model(embedflag=True,embedding_matrix=fastEeb)\n",
    "model.load_weights('weightBackup/cnn_lstm_fast.h5')\n",
    "model.layers.pop()\n",
    "new.outputFetures(model,'cnn_lstm_fast_last_1_layer')"
   ]
  },
  {
   "cell_type": "code",
   "execution_count": 81,
   "metadata": {},
   "outputs": [
    {
     "name": "stdout",
     "output_type": "stream",
     "text": [
      "Build model...\n",
      "159571/159571 [==============================] - 93s 582us/step\n",
      "153164/153164 [==============================] - 93s 607us/step\n"
     ]
    }
   ],
   "source": [
    "new = embedding(Xtrain, ytrain,Xpred,epochs=10,max_features=1000)\n",
    "model = new.cnn_lstm_model(embedflag=True,embedding_matrix=fastEeb)\n",
    "model.load_weights('weightBackup/cnn_lstm_fast.h5')\n",
    "model.layers.pop()\n",
    "model.layers.pop()\n",
    "new.outputFetures(model,'cnn_lstm_fast_last_2_layer')"
   ]
  },
  {
   "cell_type": "markdown",
   "metadata": {},
   "source": [
    "##### cnn_lstm_glove.h5"
   ]
  },
  {
   "cell_type": "code",
   "execution_count": 82,
   "metadata": {},
   "outputs": [
    {
     "name": "stdout",
     "output_type": "stream",
     "text": [
      "Build model...\n",
      "159571/159571 [==============================] - 89s 560us/step\n",
      "153164/153164 [==============================] - 87s 571us/step\n"
     ]
    }
   ],
   "source": [
    "new = embedding(Xtrain, ytrain,Xpred,epochs=10,max_features=1000)\n",
    "model = new.cnn_lstm_model(embedflag=True,embedding_matrix=glove)\n",
    "model.load_weights('weightBackup/cnn_lstm_glove.h5')\n",
    "new.outputFetures(model,'cnn_lstm_glove_original')"
   ]
  },
  {
   "cell_type": "code",
   "execution_count": 83,
   "metadata": {},
   "outputs": [
    {
     "name": "stdout",
     "output_type": "stream",
     "text": [
      "Build model...\n",
      "159571/159571 [==============================] - 91s 567us/step\n",
      "153164/153164 [==============================] - 87s 570us/step\n"
     ]
    }
   ],
   "source": [
    "new = embedding(Xtrain, ytrain,Xpred,epochs=10,max_features=1000)\n",
    "model = new.cnn_lstm_model(embedflag=True,embedding_matrix=glove)\n",
    "model.load_weights('weightBackup/cnn_lstm_glove.h5')\n",
    "model.layers.pop()\n",
    "new.outputFetures(model,'cnn_lstm_glove_last_1_layer')"
   ]
  },
  {
   "cell_type": "code",
   "execution_count": 84,
   "metadata": {},
   "outputs": [
    {
     "name": "stdout",
     "output_type": "stream",
     "text": [
      "Build model...\n",
      "159571/159571 [==============================] - 90s 565us/step\n",
      "153164/153164 [==============================] - 86s 560us/step\n"
     ]
    }
   ],
   "source": [
    "new = embedding(Xtrain, ytrain,Xpred,epochs=10,max_features=1000)\n",
    "model = new.cnn_lstm_model(embedflag=True,embedding_matrix=glove)\n",
    "model.load_weights('weightBackup/cnn_lstm_glove.h5')\n",
    "model.layers.pop()\n",
    "model.layers.pop()\n",
    "new.outputFetures(model,'cnn_lstm_glove_last_2_layer')"
   ]
  },
  {
   "cell_type": "markdown",
   "metadata": {},
   "source": [
    "##### cnn_1d3.h5"
   ]
  },
  {
   "cell_type": "code",
   "execution_count": 85,
   "metadata": {},
   "outputs": [
    {
     "name": "stdout",
     "output_type": "stream",
     "text": [
      "_________________________________________________________________\n",
      "Layer (type)                 Output Shape              Param #   \n",
      "=================================================================\n",
      "input_29 (InputLayer)        (None, 150)               0         \n",
      "_________________________________________________________________\n",
      "embedding_53 (Embedding)     (None, 150, 300)          300000    \n",
      "_________________________________________________________________\n",
      "dropout_49 (Dropout)         (None, 150, 300)          0         \n",
      "_________________________________________________________________\n",
      "conv1d_59 (Conv1D)           (None, 146, 64)           96064     \n",
      "_________________________________________________________________\n",
      "max_pooling1d_47 (MaxPooling (None, 36, 64)            0         \n",
      "_________________________________________________________________\n",
      "conv1d_60 (Conv1D)           (None, 32, 64)            20544     \n",
      "_________________________________________________________________\n",
      "max_pooling1d_48 (MaxPooling (None, 8, 64)             0         \n",
      "_________________________________________________________________\n",
      "conv1d_61 (Conv1D)           (None, 4, 64)             20544     \n",
      "_________________________________________________________________\n",
      "global_max_pooling1d_27 (Glo (None, 64)                0         \n",
      "_________________________________________________________________\n",
      "dense_63 (Dense)             (None, 6)                 390       \n",
      "=================================================================\n",
      "Total params: 437,542\n",
      "Trainable params: 437,542\n",
      "Non-trainable params: 0\n",
      "_________________________________________________________________\n"
     ]
    }
   ],
   "source": [
    "new = embedding(Xtrain, ytrain,Xpred,epochs=10,max_features=1000,lstm_output_size=50)\n",
    "model = new.cnn_1d3(embedflag=False,embedding_matrix=None)\n",
    "model.summary()"
   ]
  },
  {
   "cell_type": "code",
   "execution_count": 97,
   "metadata": {},
   "outputs": [
    {
     "ename": "SyntaxError",
     "evalue": "invalid syntax (<ipython-input-97-f1e6a9f355f4>, line 1)",
     "output_type": "error",
     "traceback": [
      "\u001b[0;36m  File \u001b[0;32m\"<ipython-input-97-f1e6a9f355f4>\"\u001b[0;36m, line \u001b[0;32m1\u001b[0m\n\u001b[0;31m    new = embedding(Xtrain, ytrain,Xpred,epochs=10,max_features=1000,,lstm_output_size=50)\u001b[0m\n\u001b[0m                                                                     ^\u001b[0m\n\u001b[0;31mSyntaxError\u001b[0m\u001b[0;31m:\u001b[0m invalid syntax\n"
     ]
    }
   ],
   "source": [
    "new = embedding(Xtrain, ytrain,Xpred,epochs=10,max_features=1000)\n",
    "model = new.cnn_1d3(embedflag=False,embedding_matrix=None)\n",
    "model.load_weights('weightBackup/cnn_1d3.h5')\n",
    "new.outputFetures(model,'cnn_lstm_glove_original')"
   ]
  },
  {
   "cell_type": "code",
   "execution_count": 88,
   "metadata": {},
   "outputs": [
    {
     "name": "stdout",
     "output_type": "stream",
     "text": [
      "159571/159571 [==============================] - 87s 543us/step\n",
      "153164/153164 [==============================] - 80s 525us/step\n"
     ]
    }
   ],
   "source": [
    "new = embedding(Xtrain, ytrain,Xpred,epochs=10,max_features=1000)\n",
    "model = new.cnn_1d3(embedflag=False,embedding_matrix=None)\n",
    "model.load_weights('weightBackup/cnn_1d3.h5')\n",
    "model.layers.pop()\n",
    "new.outputFetures(model,'cnn_1d3_last_1_layer')"
   ]
  },
  {
   "cell_type": "markdown",
   "metadata": {},
   "source": [
    "##### cnn_lstm_fasttest.h5"
   ]
  },
  {
   "cell_type": "code",
   "execution_count": 90,
   "metadata": {},
   "outputs": [
    {
     "name": "stdout",
     "output_type": "stream",
     "text": [
      "159571/159571 [==============================] - 87s 543us/step\n",
      "153164/153164 [==============================] - 82s 533us/step\n"
     ]
    }
   ],
   "source": [
    "new = embedding(Xtrain, ytrain,Xpred,epochs=10,max_features=1000)\n",
    "model = new.cnn_1d3(embedflag=True,embedding_matrix=fastEeb)\n",
    "model.load_weights('weightBackup/cnn_1d3_fasttest.h5')\n",
    "new.outputFetures(model,'cnn_1d3_fasttest_original')"
   ]
  },
  {
   "cell_type": "code",
   "execution_count": 91,
   "metadata": {},
   "outputs": [
    {
     "name": "stdout",
     "output_type": "stream",
     "text": [
      "159571/159571 [==============================] - 85s 531us/step\n",
      "153164/153164 [==============================] - 82s 534us/step\n"
     ]
    }
   ],
   "source": [
    "new = embedding(Xtrain, ytrain,Xpred,epochs=10,max_features=1000)\n",
    "model = new.cnn_1d3(embedflag=True,embedding_matrix=fastEeb)\n",
    "model.load_weights('weightBackup/cnn_1d3_fasttest.h5')\n",
    "model.layers.pop()\n",
    "new.outputFetures(model,'cnn_1d3_fasttest_last_1_layer')"
   ]
  },
  {
   "cell_type": "markdown",
   "metadata": {},
   "source": [
    "##### cnn_1d3_glove.h5"
   ]
  },
  {
   "cell_type": "code",
   "execution_count": 92,
   "metadata": {},
   "outputs": [
    {
     "name": "stdout",
     "output_type": "stream",
     "text": [
      "159571/159571 [==============================] - 83s 517us/step\n",
      "153164/153164 [==============================] - 79s 517us/step\n"
     ]
    }
   ],
   "source": [
    "new = embedding(Xtrain, ytrain,Xpred,epochs=10,max_features=1000)\n",
    "model = new.cnn_1d3(embedflag=True,embedding_matrix=glove)\n",
    "model.load_weights('weightBackup/cnn_1d3_glove.h5')\n",
    "new.outputFetures(model,'cnn_1d3_glove_original')"
   ]
  },
  {
   "cell_type": "code",
   "execution_count": 93,
   "metadata": {},
   "outputs": [
    {
     "name": "stdout",
     "output_type": "stream",
     "text": [
      "159571/159571 [==============================] - 85s 530us/step\n",
      "153164/153164 [==============================] - 80s 523us/step\n"
     ]
    }
   ],
   "source": [
    "new = embedding(Xtrain, ytrain,Xpred,epochs=10,max_features=1000)\n",
    "model = new.cnn_1d3(embedflag=True,embedding_matrix=glove)\n",
    "model.load_weights('weightBackup/cnn_1d3_glove.h5')\n",
    "model.layers.pop()\n",
    "new.outputFetures(model,'cnn_1d3_glove_last_1_layer')"
   ]
  },
  {
   "cell_type": "markdown",
   "metadata": {},
   "source": [
    "##### gru.h5"
   ]
  },
  {
   "cell_type": "code",
   "execution_count": 94,
   "metadata": {},
   "outputs": [
    {
     "name": "stdout",
     "output_type": "stream",
     "text": [
      "_________________________________________________________________\n",
      "Layer (type)                 Output Shape              Param #   \n",
      "=================================================================\n",
      "input_37 (InputLayer)        (None, 150)               0         \n",
      "_________________________________________________________________\n",
      "embedding_62 (Embedding)     (None, 150, 300)          300000    \n",
      "_________________________________________________________________\n",
      "bidirectional_15 (Bidirectio (None, 150, 140)          207760    \n",
      "_________________________________________________________________\n",
      "global_max_pooling1d_35 (Glo (None, 140)               0         \n",
      "_________________________________________________________________\n",
      "dense_72 (Dense)             (None, 50)                7050      \n",
      "_________________________________________________________________\n",
      "dropout_58 (Dropout)         (None, 50)                0         \n",
      "_________________________________________________________________\n",
      "dense_73 (Dense)             (None, 6)                 306       \n",
      "=================================================================\n",
      "Total params: 515,116\n",
      "Trainable params: 515,116\n",
      "Non-trainable params: 0\n",
      "_________________________________________________________________\n"
     ]
    }
   ],
   "source": [
    "new = embedding(Xtrain, ytrain,Xpred,epochs=10,max_features=1000)\n",
    "model = new.gru_model(embedflag=True,embedding_matrix=fastEeb)\n",
    "model.summary()"
   ]
  },
  {
   "cell_type": "code",
   "execution_count": 99,
   "metadata": {},
   "outputs": [
    {
     "name": "stdout",
     "output_type": "stream",
     "text": [
      "159571/159571 [==============================] - 237s 1ms/step\n",
      "153164/153164 [==============================] - 225s 1ms/step\n"
     ]
    }
   ],
   "source": [
    "new = embedding(Xtrain, ytrain,Xpred,epochs=10,max_features=1000,lstm_output_size=50)\n",
    "model = new.gru_model(embedflag=False,embedding_matrix=fastEeb)\n",
    "model.load_weights('weightBackup/gru.h5')\n",
    "new.outputFetures(model,'gru_orginal')"
   ]
  },
  {
   "cell_type": "code",
   "execution_count": 101,
   "metadata": {},
   "outputs": [
    {
     "name": "stdout",
     "output_type": "stream",
     "text": [
      "159571/159571 [==============================] - 231s 1ms/step\n",
      "153164/153164 [==============================] - 226s 1ms/step\n"
     ]
    }
   ],
   "source": [
    "new = embedding(Xtrain, ytrain,Xpred,epochs=10,max_features=1000,lstm_output_size=50)\n",
    "model = new.gru_model(embedflag=False,embedding_matrix=fastEeb)\n",
    "model.load_weights('weightBackup/gru.h5')\n",
    "model.layers.pop()\n",
    "new.outputFetures(model,'gru_last_1_layer')"
   ]
  },
  {
   "cell_type": "code",
   "execution_count": 102,
   "metadata": {},
   "outputs": [
    {
     "name": "stdout",
     "output_type": "stream",
     "text": [
      "159571/159571 [==============================] - 244s 2ms/step\n",
      "153164/153164 [==============================] - 226s 1ms/step\n"
     ]
    }
   ],
   "source": [
    "new = embedding(Xtrain, ytrain,Xpred,epochs=10,max_features=1000,lstm_output_size=50)\n",
    "model = new.gru_model(embedflag=False,embedding_matrix=fastEeb)\n",
    "model.load_weights('weightBackup/gru.h5')\n",
    "model.layers.pop()\n",
    "model.layers.pop()\n",
    "new.outputFetures(model,'gru_last_2_layer')"
   ]
  },
  {
   "cell_type": "code",
   "execution_count": 103,
   "metadata": {},
   "outputs": [
    {
     "name": "stdout",
     "output_type": "stream",
     "text": [
      "159571/159571 [==============================] - 228s 1ms/step\n",
      "153164/153164 [==============================] - 219s 1ms/step\n"
     ]
    }
   ],
   "source": [
    "new = embedding(Xtrain, ytrain,Xpred,epochs=10,max_features=1000,lstm_output_size=50)\n",
    "model = new.gru_model(embedflag=False,embedding_matrix=fastEeb)\n",
    "model.load_weights('weightBackup/gru.h5')\n",
    "model.layers.pop()\n",
    "model.layers.pop()\n",
    "model.layers.pop()\n",
    "new.outputFetures(model,'gru_last_3_layer')"
   ]
  },
  {
   "cell_type": "code",
   "execution_count": null,
   "metadata": {},
   "outputs": [],
   "source": []
  }
 ],
 "metadata": {
  "kernelspec": {
   "display_name": "Python 3",
   "language": "python",
   "name": "python3"
  },
  "language_info": {
   "codemirror_mode": {
    "name": "ipython",
    "version": 3
   },
   "file_extension": ".py",
   "mimetype": "text/x-python",
   "name": "python",
   "nbconvert_exporter": "python",
   "pygments_lexer": "ipython3",
   "version": "3.6.4"
  }
 },
 "nbformat": 4,
 "nbformat_minor": 2
}
